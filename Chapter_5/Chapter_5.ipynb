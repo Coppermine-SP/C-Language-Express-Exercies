{
 "cells": [
  {
   "attachments": {},
   "cell_type": "markdown",
   "metadata": {},
   "source": [
    "**01 사용자로부터 2개의 정수를 입력받아서 첫 번째 정수를 두 번째 정수로 나누었을때 얻게 되는 몫과 나머지를 출력하는 프로그램을 작성하시오.**"
   ]
  },
  {
   "cell_type": "code",
   "execution_count": 2,
   "metadata": {},
   "outputs": [
    {
     "name": "stdout",
     "output_type": "stream",
     "text": [
      "정수 2개를 입력하시오: a\n"
     ]
    },
    {
     "name": "stderr",
     "output_type": "stream",
     "text": [
      "[C kernel] Executable exited with code -8"
     ]
    }
   ],
   "source": [
    "#include <stdio.h>\n",
    "\n",
    "// 2개의 정수를 입력받아서 몫과 나머지 출력하는 프로그램\n",
    "int main(void){\n",
    "    int i, j;\n",
    "    printf(\"정수 2개를 입력하시오: \");\n",
    "    scanf(\"%d %d\", &i, &j);\n",
    "    printf(\"몫: %d\\n나머지: %d\", i/j, i%j);\n",
    "    \n",
    "    return 0;\n",
    "}"
   ]
  },
  {
   "attachments": {},
   "cell_type": "markdown",
   "metadata": {},
   "source": [
    "**02 2개의 double 형의 실수를 읽어서 합, 차, 곱, 몫을 구하는 프로그램을 작성하라.**"
   ]
  },
  {
   "cell_type": "code",
   "execution_count": 3,
   "metadata": {},
   "outputs": [
    {
     "name": "stdout",
     "output_type": "stream",
     "text": [
      "실수를 입력하시오: "
     ]
    }
   ],
   "source": [
    "#include <stdio.h>\n",
    "\n",
    "// 2개의 실수를 입력받아서 합, 차, 곱, 몫을 출력하는 프로그램\n",
    "int main(void){\n",
    "    double a, b;\n",
    "    printf(\"실수를 입력하시오: \");\n",
    "    scanf(\"%lf %lf\", &a, &b);\n",
    "    printf(\"%.2lf %.2lf %.2lf %.2lf\", a + b, a - b, a * b, a / b);\n",
    "    \n",
    "    return 0;\n",
    "}"
   ]
  },
  {
   "attachments": {},
   "cell_type": "markdown",
   "metadata": {},
   "source": [
    "**03 3개의 정수값을 입력받아서 값중에 최대값을 출력하는 프로그램을 작성하라.**"
   ]
  },
  {
   "cell_type": "code",
   "execution_count": null,
   "metadata": {},
   "outputs": [
    {
     "name": "stdout",
     "output_type": "stream",
     "text": [
      "정수 3개를 입력하시오: c\n",
      "최대 값은 535771157입니다."
     ]
    }
   ],
   "source": [
    "#include <stdio.h>\n",
    "\n",
    "// 3개의 수를 입력받아서 3개 중 최대 값을 출력하는 프로그램\n",
    "int main(void){\n",
    "    int i, j, k;\n",
    "    printf(\"정수 3개를 입력하시오: \");\n",
    "    scanf(\"%d %d %d\", &i, &j, &k);\n",
    "    // 최대값을 찾는 이중 삼항식\n",
    "    printf(\"최대 값은 %d입니다.\", i > j && i > k ? i : j > k ? j : k);\n",
    "    \n",
    "    return 0;\n",
    "}"
   ]
  },
  {
   "attachments": {},
   "cell_type": "markdown",
   "metadata": {},
   "source": [
    "**04 cm으로 표현된 키를 입력하여 피트와 인치로 변환하는 프로그램을 작성하시오.**"
   ]
  },
  {
   "cell_type": "code",
   "execution_count": null,
   "metadata": {},
   "outputs": [
    {
     "name": "stdout",
     "output_type": "stream",
     "text": [
      "키를 입력하시오(cm): d\n",
      "39670016cm은 1301509피트 8.54인치입니다."
     ]
    }
   ],
   "source": [
    "#include <stdio.h>\n",
    "\n",
    "// cm 단위의 키를 입력받아 피트 인치로 출력하는 프로그램\n",
    "int main(void){\n",
    "    int i, feet;\n",
    "    double inch;\n",
    "    printf(\"키를 입력하시오(cm): \");\n",
    "    scanf(\"%d\", &i);\n",
    "\n",
    "    inch = i / 2.54;\n",
    "    feet = inch / 12;\n",
    "    printf(\"%dcm은 %d피트 %.2lf인치입니다.\", i, feet, inch - (feet * 12));\n",
    "\n",
    "    return 0;\n",
    "}"
   ]
  },
  {
   "attachments": {},
   "cell_type": "markdown",
   "metadata": {},
   "source": [
    "**05 100보다 작은 정수를 입력받아서 이것을 십의 자리, 1의 자리로 분리하여 출력하는 프로그램을 작성하시오.**"
   ]
  },
  {
   "cell_type": "code",
   "execution_count": null,
   "metadata": {},
   "outputs": [
    {
     "name": "stdout",
     "output_type": "stream",
     "text": [
      "정수를 입력하시오: d\n",
      "십의 자리: 0\n",
      "일의 자리: 0"
     ]
    }
   ],
   "source": [
    "#include <stdio.h>\n",
    "\n",
    "// 두 자리수를 십의 자리와 일의 자리로 출력하는 프로그램\n",
    "int main(void){\n",
    "    int i;\n",
    "    printf(\"정수를 입력하시오: \");\n",
    "    scanf(\"%d\", &i);\n",
    "\n",
    "    printf(\"십의 자리: %d\\n일의 자리: %d\", i/10, i%10);\n",
    "\n",
    "    return 0;\n",
    "}"
   ]
  },
  {
   "attachments": {},
   "cell_type": "markdown",
   "metadata": {},
   "source": [
    "**06 (1.0-0.9)==0.1의 값은 당연히 1이어야 한다. 하지만 0이 출력된다. 출력값이 1이 나오도록 코드를 작성해보자.**"
   ]
  },
  {
   "cell_type": "code",
   "execution_count": null,
   "metadata": {},
   "outputs": [
    {
     "name": "stdout",
     "output_type": "stream",
     "text": [
      "(1.0-0.9)==0.1은 1 입니다."
     ]
    }
   ],
   "source": [
    "#include <stdio.h>\n",
    "#include <math.h>\n",
    "#define EPSILON 0.00001\n",
    "\n",
    "int main(void){\n",
    "    // 부동소수점의 오차로 인해 부동소수점수는 직접 비교하면 안된다.\n",
    "    // 두 수가 같은지 비교할려면 두 수를 뺀 값이 엡실론보다 작거나 같은지 비교해야 한다.\n",
    "    printf(\"(1.0-0.9)==0.1은 %d 입니다.\", \n",
    "    fabs(fabs(1.0 - 0.9) - fabs(0.1)) <= EPSILON);\n",
    "    return 0;\n",
    "}"
   ]
  },
  {
   "attachments": {},
   "cell_type": "markdown",
   "metadata": {},
   "source": [
    "**07 정수에 비트 연산자 <<를 한번 적용하면 2를 곱한 값을 얻을 수 있다. 사용자로부터 정수 x,y를 입력받아서 x<<y의 값을 출력하는 프로그램을 작성하여보자.**"
   ]
  },
  {
   "cell_type": "code",
   "execution_count": null,
   "metadata": {},
   "outputs": [
    {
     "name": "stdout",
     "output_type": "stream",
     "text": [
      "정수를 입력하시오: "
     ]
    }
   ],
   "source": [
    "#include <stdio.h>\n",
    "\n",
    "// 사용자가 입력한 정수를 원하는 값 만큼 비트시프트해서 출력하는 프로그램\n",
    "int main(void){\n",
    "    int a,b;\n",
    "    printf(\"정수를 입력하시오: \");\n",
    "    scanf(\"%d\", &a);\n",
    "    printf(\"2를 곱하고 싶은 횟수: \");\n",
    "    scanf(\"%d\", &b);\n",
    "    // a를 b만큼 bit shift 한다.\n",
    "    printf(\"%d<<%d의 값: %d\", a,b, a<<b);\n",
    "    return 0;\n",
    "}"
   ]
  },
  {
   "attachments": {},
   "cell_type": "markdown",
   "metadata": {},
   "source": [
    "**08 구의 표면적과 체적을 구하는 프로그램을 작성하라.**"
   ]
  },
  {
   "cell_type": "code",
   "execution_count": null,
   "metadata": {},
   "outputs": [
    {
     "name": "stdout",
     "output_type": "stream",
     "text": [
      "구의 반지름을 입력하시오: 10.0\n",
      "표면적은 1256.64입니다.\n",
      "체적은 4188.79입니다."
     ]
    }
   ],
   "source": [
    "#include <stdio.h>\n",
    "#define PI 3.141592\n",
    "\n",
    "// 구의 표면적과 체적을 구하는 프로그램\n",
    "int main(void){\n",
    "    float radius;\n",
    "\n",
    "    printf(\"구의 반지름을 입력하시오: \");\n",
    "    scanf(\"%f\", &radius);\n",
    "\n",
    "    // 명시적 케스팅\n",
    "    printf(\"표면적은 %.2f입니다.\\n\", (float)4*PI*radius*radius);\n",
    "    printf(\"체적은 %.2f입니다.\", (float)4/3*PI*radius*radius*radius);\n",
    "    return 0;\n",
    "}"
   ]
  },
  {
   "attachments": {},
   "cell_type": "markdown",
   "metadata": {},
   "source": [
    "**09 그리스 최초의 수학자이자 천문학자인 탈레스는 지팡이 하나로 피라미드의 높이를 재었다고 한다.\n",
    "AC와 AE, BC를 입력하여서 DE를 구하는 프로그램을 작성하라.**"
   ]
  },
  {
   "cell_type": "code",
   "execution_count": null,
   "metadata": {},
   "outputs": [
    {
     "name": "stdout",
     "output_type": "stream",
     "text": [
      "지팡이의 높이를 입력하시오: 100\n",
      "지팡이 그림자의 길이를 입력하시오: 20\n",
      "피라미드까지의 거리를 입력하시오: 1000\n",
      "피라미드의 높이는 5000.00입니다."
     ]
    }
   ],
   "source": [
    "#include <stdio.h>\n",
    "\n",
    "// 피라미드의 높이를 지팡이 그림자의 길이로 구하는 프로그램\n",
    "int main(void){\n",
    "    float AC, AE, BC, DE;\n",
    "    printf(\"지팡이의 높이를 입력하시오: \");\n",
    "    scanf(\"%f\", &BC);\n",
    "    printf(\"지팡이 그림자의 길이를 입력하시오: \");\n",
    "    scanf(\"%f\", &AC);\n",
    "    printf(\"피라미드까지의 거리를 입력하시오: \");\n",
    "    scanf(\"%f\", &AE);\n",
    "\n",
    "    DE = BC * AE / AC;\n",
    "    printf(\"피라미드의 높이는 %.2f입니다.\", DE);\n",
    "    return 0;\n",
    "}"
   ]
  },
  {
   "attachments": {},
   "cell_type": "markdown",
   "metadata": {},
   "source": [
    "**10 조건 연산자 ?만을 사용해서 2차원 공간의 x좌표와 y좌표를 입력받아서 그 좌표가 속하는 사분면을 출력하는 프로그램을 작성하시오.**"
   ]
  },
  {
   "cell_type": "code",
   "execution_count": null,
   "metadata": {},
   "outputs": [
    {
     "name": "stdout",
     "output_type": "stream",
     "text": [
      "x좌표를 입력하시오: 10\n",
      "y좌표를 입력하시오: 10\n",
      "1사분면입니다."
     ]
    }
   ],
   "source": [
    "#include <stdio.h>\n",
    "\n",
    "// 사용자가 입력한 좌표가 몆사분면에 위치하는지 출력하는 프로그램\n",
    "int main(void){\n",
    "    int x,y;\n",
    "    printf(\"x좌표를 입력하시오: \");\n",
    "    scanf(\"%d\", &x);\n",
    "    printf(\"y좌표를 입력하시오: \");\n",
    "    scanf(\"%d\", &y);\n",
    "\n",
    "    //중첩 삼항식을 통한 조건 판단\n",
    "    printf(\"%s입니다.\", (x>0 && y>0) ? \"1사분면\" : (x<0 && y>0) ? \"2사분면\" :\n",
    "    (x<0 && y<0) ? \"3사분면\" : \"4사분면\");\n",
    "    return 0;\n",
    "}"
   ]
  },
  {
   "attachments": {},
   "cell_type": "markdown",
   "metadata": {},
   "source": [
    "**11 약 2200년 전에 그리스의 에라토르네네스는 최초로 지구의 크기를 측정하였다. 일단 지구를 구형으로 가정하고 또 태양 광선은 지구의 어느 곳에서나 평행하게 비친다고 가정하였다. 또 원호의 길이는 중심각에 비례한다는 원리를 사용하였다. 하지만 정오에 시에네에시에서 햇빛이 수직으로 비칠 때, 알렉산드리아에서는 막대와 그림자가 이루는 각도가 7.2도로 측정되었다. 또 시에네에서 알렉산드리아까지의 거리는 약 900km로 측정되었다. 이것을 이용하여서 지구의 반지름을 계산하여보자.**"
   ]
  },
  {
   "cell_type": "code",
   "execution_count": null,
   "metadata": {},
   "outputs": [
    {
     "name": "stdout",
     "output_type": "stream",
     "text": [
      "거리를 입력하시오: 900\n",
      "각도를 입력하시오: 7.2\n",
      "지구의 반지름은 7165.61입니다."
     ]
    }
   ],
   "source": [
    "#include <stdio.h>\n",
    "\n",
    "// 거리와 각도를 입력하여 지구의 반지름을 출력하는 프로그램\n",
    "int main(void){\n",
    "    float distance, angle;\n",
    "\n",
    "    printf(\"거리를 입력하시오: \");\n",
    "    scanf(\"%f\", &distance);\n",
    "    printf(\"각도를 입력하시오: \");\n",
    "    scanf(\"%f\", &angle);\n",
    "\n",
    "    // 먼저 둘레를 구한 후 반지름을 구한다.\n",
    "    printf(\"지구의 반지름은 %.2lf입니다.\", (float)(distance*360/angle) / (2 * 3.14));\n",
    "    return 0;\n",
    "}"
   ]
  },
  {
   "attachments": {},
   "cell_type": "markdown",
   "metadata": {},
   "source": [
    "**12 비트 이동 연산을 이용하여 문자 4개를 받아서 하나의 unsigned int형의 변수 안에 저장하는 프로그램을 작성하라.**"
   ]
  },
  {
   "cell_type": "code",
   "execution_count": null,
   "metadata": {},
   "outputs": [],
   "source": []
  },
  {
   "cell_type": "code",
   "execution_count": 3,
   "metadata": {},
   "outputs": [
    {
     "name": "stderr",
     "output_type": "stream",
     "text": [
      "In file included from /tmp/tmp_i3yk4c9.c:1:\n",
      "/tmp/tmp_i3yk4c9.c: In function ‘main’:\n",
      "/home/coppermine/.local/lib/python3.10/site-packages/jupyter_c_kernel/resources/stdio_wrap.h:290:16: warning: ‘result’ is used uninitialized [-Wuninitialized]\n",
      "  290 | #define printf printf_wrap\n",
      "      |                ^~~~~~~~~~~\n",
      "/tmp/tmp_i3yk4c9.c:6:18: note: ‘result’ was declared here\n",
      "    6 |     unsigned int result;\n",
      "      |                  ^~~~~~\n"
     ]
    },
    {
     "name": "stdout",
     "output_type": "stream",
     "text": [
      "22017첫 번째 문자를 입력하시오:"
     ]
    }
   ],
   "source": [
    "#include <stdio.h>\n",
    "\n",
    "int main(void){\n",
    "    char array[4];\n",
    "    // 반드시 변수를 사용하기 전에 initalize 하십시오.\n",
    "    unsigned int result;\n",
    "    for(int i=0;i<4;i++){\n",
    "        printf(\"%s 번째 문자를 입력하시오:\", i == 0 ? \"첫\" : i == 1 \n",
    "        ? \"두\" : i == 2 ? \"셋\" : \"네\");\n",
    "        // LF를 버리기 위해서 서식 지정자 앞에 공백 삽입\n",
    "        scanf(\" %c\", &array[i]);\n",
    "    }\n",
    "\n",
    "    int offset = 0;\n",
    "    for(int i=0;i<4; i++){\n",
    "        result = result | (unsigned int)array[i] << offset;\n",
    "        offset += 8;\n",
    "    }\n",
    "\n",
    "    \n",
    "    printf(\"%x\", result);\n",
    "}"
   ]
  }
 ],
 "metadata": {
  "kernelspec": {
   "display_name": "C",
   "language": "c",
   "name": "c"
  },
  "language_info": {
   "file_extension": ".c",
   "mimetype": "text/x-csrc",
   "name": "c"
  },
  "orig_nbformat": 4
 },
 "nbformat": 4,
 "nbformat_minor": 2
}
