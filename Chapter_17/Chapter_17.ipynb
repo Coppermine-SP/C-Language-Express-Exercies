{
    "cells": [
        {
            "cell_type": "markdown",
            "metadata": {},
            "source": [
                "**1. malloc() 함수를 사용하여 int 변수, short 변수, float 변수를 저장할 수 있는 동적 메모리를 만들고, 사용자로부터 해당 값을 입력받아서 저장한 후 출력한다.**"
            ]
        },
        {
            "cell_type": "code",
            "execution_count": 2,
            "metadata": {},
            "outputs": [
                {
                    "name": "stdout",
                    "output_type": "stream",
                    "text": [
                        "정수(int형)을 입력하시오: 100\n",
                        "정수(short형)을 입력하시오: 20000\n",
                        "실수(float형)을 입력하시오: 3.14\n",
                        "입력된 값은 100,20000,3.14입니다."
                    ]
                }
            ],
            "source": [
                "#include <stdio.h>\n",
                "#include <stdlib.h>\n",
                "\n",
                "int main(void){\n",
                "    //메모리 동적 할당\n",
                "    int* intptr = (int*)malloc(sizeof(int));\n",
                "    short* shortptr = (short*)malloc(sizeof(short));\n",
                "    float* floatptr = (float*)malloc(sizeof(float));\n",
                "\n",
                "    printf(\"정수(int형)을 입력하시오: \");\n",
                "    scanf(\"%d\", intptr);\n",
                "    printf(\"정수(short형)을 입력하시오: \");\n",
                "    scanf(\"%d\", shortptr);\n",
                "    printf(\"실수(float형)을 입력하시오: \");\n",
                "    scanf(\"%f\", floatptr);\n",
                "\n",
                "    printf(\"입력된 값은 %d,%d,%.2f입니다.\", *intptr, *shortptr, *floatptr);\n",
                "\n",
                "    free(intptr);\n",
                "    free(shortptr);\n",
                "    free(floatptr);\n",
                "    return 0;\n",
                "}"
            ]
        },
        {
            "cell_type": "markdown",
            "metadata": {},
            "source": [
                "**2. 사용자가 입력한 n개의 실수의 합을 계산하기 위한 C 프로그램을 작성한다. 사용자로부터 실수의 개수를 먼저 입력받고, 실수의 개수만큼 동적 메모리를 할당하여 실수들을 저장한다.**"
            ]
        },
        {
            "cell_type": "code",
            "execution_count": 6,
            "metadata": {},
            "outputs": [
                {
                    "name": "stdout",
                    "output_type": "stream",
                    "text": [
                        "실수의 개수: 3\n",
                        "실수를 입력하시오: 1.2\n",
                        "실수를 입력하시오: 1.3\n",
                        "실수를 입력하시오: 1.4\n",
                        "합은 3.9입니다."
                    ]
                }
            ],
            "source": [
                "#include <stdio.h>\n",
                "#include <stdlib.h>\n",
                "\n",
                "int main(void){\n",
                "    int len;\n",
                "    printf(\"실수의 개수: \");\n",
                "    scanf(\"%d\", &len);\n",
                "\n",
                "    float* arr = (float*)malloc(sizeof(float)*len);\n",
                "    for(int i = 0; i < len; i++){\n",
                "        printf(\"실수를 입력하시오: \");\n",
                "        scanf(\"%f\", &arr[i]);\n",
                "    }\n",
                "\n",
                "    //합 출력\n",
                "    float total = 0;\n",
                "    for(int i = 0; i < len; i++) total += arr[i];\n",
                "    printf(\"합은 %.1f입니다.\", total);\n",
                "\n",
                "    free(arr);\n",
                "    return 0;\n",
                "}"
            ]
        },
        {
            "cell_type": "markdown",
            "id": "2e63440b",
            "metadata": {},
            "source": []
        },
        {
            "cell_type": "markdown",
            "metadata": {},
            "source": [
                "**3. 정수 100개를 저장할 수 있는 동적 메모리를 할당받고, 여기에 0부터 99 사이의 난수를 저장한다. 저장된 난수 중에서 최대값을 찾아서 출력한다.**"
            ]
        },
        {
            "cell_type": "code",
            "execution_count": 22,
            "metadata": {},
            "outputs": [
                {
                    "name": "stdout",
                    "output_type": "stream",
                    "text": [
                        "난수 중에 최대 값은 96입니다."
                    ]
                }
            ],
            "source": [
                "#include <stdio.h>\n",
                "#include <stdlib.h>\n",
                "#include <time.h>\n",
                "\n",
                "int main(void){\n",
                "    int* arr = malloc(sizeof(int) * 100);\n",
                "\n",
                "    //배열을 난수로 채우기\n",
                "    srand(time(NULL));\n",
                "    for(int i = 0; i < 100; i++){\n",
                "        arr[i] = rand() % 100;\n",
                "    }\n",
                "\n",
                "    //배열에서 최대값 찾기\n",
                "    int max = 0;\n",
                "    for(int i = 0; i < 100; i++){\n",
                "        if(arr[i] > max) max = arr[i];\n",
                "    }\n",
                "\n",
                "    printf(\"난수 중에 최대 값은 %d입니다.\", max);\n",
                "    free(arr);\n",
                "    return 0;\n",
                "}"
            ]
        },
        {
            "cell_type": "markdown",
            "metadata": {},
            "source": [
                "**4. malloc() 함수를 사용하여 문자열을 저장할 수 있는 동적 메모리를 생성하고, 사용자가 입력한 문자열을 저장한 후에 화면에 출력한다. 문자열을 입력받기 전에 문자열의 최대 길이를 먼저 입력받는다.**"
            ]
        },
        {
            "cell_type": "code",
            "execution_count": 24,
            "metadata": {},
            "outputs": [
                {
                    "name": "stdout",
                    "output_type": "stream",
                    "text": [
                        "문자열의 최대 길이를 입력하시오: 100\n",
                        "문자열을 입력하시오: This is a computer.\n",
                        "입력 된 문자열은 This is a computer. 입니다."
                    ]
                }
            ],
            "source": [
                "#include <stdio.h>\n",
                "#include <stdio.h>\n",
                "\n",
                "int main(void){\n",
                "    int len;\n",
                "    printf(\"문자열의 최대 길이를 입력하시오: \");\n",
                "    scanf(\"%d\", &len);\n",
                "\n",
                "    char* string = (char*)malloc(sizeof(char)*len);\n",
                "    printf(\"문자열을 입력하시오: \");\n",
                "\n",
                "    //앞의 whitespace 무시 및 공백 포함한 입력.\n",
                "    scanf(\" %[^\\n]s\", string);\n",
                "\n",
                "    printf(\"입력 된 문자열은 %s 입니다.\", string);\n",
                "\n",
                "    free(string);\n",
                "    return 0;\n",
                "}"
            ]
        },
        {
            "cell_type": "markdown",
            "metadata": {},
            "source": [
                "**5. 처음에 20바이트를 동적 할당받아서 \"hangookuniv\"를 저장하고, realloc()를 이용하여 동적 할당 메모리의 크기를 30바이트로 증가시키고, 이미 있던 문자열에 \".com\"을 추가하라. 저장된 문자열과 동적 할당 메모리의 주소를 출력하라.**"
            ]
        },
        {
            "cell_type": "code",
            "execution_count": 62,
            "metadata": {},
            "outputs": [
                {
                    "name": "stdout",
                    "output_type": "stream",
                    "text": [
                        "문자열 = hangookuniv, 주소 = 222972048\n",
                        "문자열 = hangookuniv.com, 주소 = 222974464\n"
                    ]
                }
            ],
            "source": [
                "#include <stdio.h>\n",
                "#include <stdlib.h>\n",
                "#include <string.h>\n",
                "\n",
                "void print_string(char* str){\n",
                "    printf(\"문자열 = %s, 주소 = %d\\n\", str, str);\n",
                "}\n",
                "\n",
                "int main(void){\n",
                "    char* str = (char*)malloc(sizeof(char) * 20);\n",
                "    strcpy(str, \"hangookuniv\");\n",
                "\n",
                "    print_string(str);\n",
                "    str = (char*)realloc(str, sizeof(char) * 30);\n",
                "    strcpy(str, \"hangookuniv.com\");\n",
                "    print_string(str);\n",
                "    \n",
                "    free(str);\n",
                "    return 0;\n",
                "}"
            ]
        },
        {
            "cell_type": "markdown",
            "metadata": {},
            "source": [
                "**6. 다음과 같은 구조체를 동적 메모리 할당으로 생성하는 프로그램을 작성하라. 동적으로 생성된 구조체에는 { 10, 3.14, 'a' }를 저장하라.**"
            ]
        },
        {
            "cell_type": "code",
            "execution_count": 61,
            "metadata": {},
            "outputs": [
                {
                    "name": "stdout",
                    "output_type": "stream",
                    "text": [
                        "i = 10\n",
                        "PI = 3.14\n",
                        "A = a\n"
                    ]
                }
            ],
            "source": [
                "#include <stdio.h>\n",
                "#include <stdlib.h>\n",
                "\n",
                "//구조체 정의\n",
                "typedef struct rec{\n",
                "    int i;\n",
                "    float PI;\n",
                "    char A;\n",
                "} my_record;\n",
                "\n",
                "int main(void){\n",
                "    my_record* ptr = (my_record*)malloc(sizeof(my_record));\n",
                "    ptr->i = 10;\n",
                "    ptr->PI = 3.14;\n",
                "    ptr->A = 'a';\n",
                "\n",
                "    printf(\"i = %d\\n\", ptr->i);\n",
                "    printf(\"PI = %.2f\\n\", ptr->PI);\n",
                "    printf(\"A = %c\\n\", ptr->A);\n",
                "\n",
                "    free(ptr);\n",
                "    return 0;\n",
                "}"
            ]
        },
        {
            "cell_type": "markdown",
            "metadata": {},
            "source": [
                "**7. 성적을 나타내는 구조체가 있다. 사용자에게 구조체의 개수를 입력하도록 요청하고 개수만큼의 동적 메모리를 할당받은 후에 구조체에 값을 저장하라. 입력이 끝나면 구조체에 저장된 값을 화면에 출력하라.**"
            ]
        },
        {
            "cell_type": "code",
            "execution_count": 60,
            "metadata": {},
            "outputs": [
                {
                    "name": "stdout",
                    "output_type": "stream",
                    "text": [
                        "구조체의 개수: 3\n",
                        "과목 이름과 성적: C언어 4.0\n",
                        "과목 이름과 성적: 자료구조 3.9\n",
                        "과목 이름과 성적: 파이썬 3.8\n",
                        "C언어\t4.0\n",
                        "자료구조\t3.9\n",
                        "파이썬\t3.8\n"
                    ]
                }
            ],
            "source": [
                "#include <stdio.h>\n",
                "#include <stdlib.h>\n",
                "#include <string.h>\n",
                "\n",
                "struct course {\n",
                "    char subject[30];\n",
                "    double marks;\n",
                "};\n",
                "\n",
                "int main(void){\n",
                "    int len;\n",
                "    printf(\"구조체의 개수: \");\n",
                "    scanf(\"%d\", &len);\n",
                "    struct course* arr = (struct course*)malloc(sizeof(struct course) * len);\n",
                "\n",
                "    for(int i = 0; i < len; i++){\n",
                "        char subject[30];\n",
                "        double score; \n",
                "\n",
                "        printf(\"과목 이름과 성적: \");\n",
                "        scanf(\"%s %lf\", subject, &score);\n",
                "\n",
                "        strcpy(arr[i].subject, subject);\n",
                "        arr[i].marks = score;\n",
                "    }\n",
                "\n",
                "    //배열 출력 \n",
                "    for(int i = 0; i < len; i++){\n",
                "        printf(\"%s\\t%.1f\\n\", arr[i].subject, arr[i].marks);\n",
                "    }\n",
                "\n",
                "    free(arr);\n",
                "    return 0;\n",
                "}\n"
            ]
        },
        {
            "cell_type": "markdown",
            "metadata": {},
            "source": [
                "**8. 사용자로부터 정수들을 입력받아 연결 리스트에 저장하고, 결과를 출력하는 프로그램을 작성하시오.**"
            ]
        },
        {
            "cell_type": "code",
            "execution_count": 68,
            "metadata": {},
            "outputs": [
                {
                    "name": "stdout",
                    "output_type": "stream",
                    "text": [
                        "30->20->10->NULL"
                    ]
                }
            ],
            "source": [
                "#include <stdio.h>\n",
                "#include <stdlib.h>\n",
                "\n",
                "typedef struct node{\n",
                "    int value;\n",
                "    struct node* next;\n",
                "} NODE;\n",
                "\n",
                "int main(void){\n",
                "    NODE* end = (NODE*)malloc(sizeof(NODE));\n",
                "    end->next = NULL;\n",
                "\n",
                "    NODE* node1 = (NODE*)malloc(sizeof(NODE));\n",
                "    node1->value = 10;\n",
                "    node1->next = end;\n",
                "\n",
                "    NODE* node2 = (NODE*)malloc(sizeof(NODE));\n",
                "    node2->value = 20;\n",
                "    node2->next = node1;\n",
                "\n",
                "    NODE* node3 = (NODE*)malloc(sizeof(NODE));\n",
                "    node3->value = 30;\n",
                "    node3->next = node2;\n",
                "\n",
                "    NODE* currentNode = node3;\n",
                "    while(1){\n",
                "        if(currentNode->next == NULL){\n",
                "            printf(\"NULL\");\n",
                "            break;\n",
                "        }\n",
                "        else{\n",
                "            printf(\"%d->\", currentNode->value);\n",
                "            currentNode = currentNode->next;\n",
                "        }\n",
                "    }\n",
                "}"
            ]
        },
        {
            "cell_type": "markdown",
            "metadata": {},
            "source": [
                "**10. 최대 100개의 문자를 저장할 수 있는 동적 메모리를 할당받아서 여기에 사용자가 입력한 문자열을 저장하였다가 이것을 다시 \"sample.txt\" 텍스트 파일에 쓰는 프로그램을 작성하시오.**"
            ]
        },
        {
            "cell_type": "code",
            "execution_count": 75,
            "metadata": {},
            "outputs": [
                {
                    "name": "stdout",
                    "output_type": "stream",
                    "text": [
                        "문자열을 입력하시오: This is a test.\n",
                        "파일 sample.txt로 저장되었습니다."
                    ]
                }
            ],
            "source": [
                "#include <stdio.h>\n",
                "#include <stdlib.h>\n",
                "\n",
                "int main(void){\n",
                "    char* fileName = \"sample.txt\";\n",
                "    char* string = (char*)malloc(sizeof(char) * 100);\n",
                "    FILE* fp = fopen(\"sample.txt\", \"w\");\n",
                "    \n",
                "    printf(\"문자열을 입력하시오: \");\n",
                "    //공백 포함한 입력\n",
                "    scanf(\"%[^\\n]s\", string);\n",
                "\n",
                "    if(fp != NULL){\n",
                "        fputs(string, fp);\n",
                "        printf(\"파일 %s로 저장되었습니다.\", fileName);\n",
                "    }    \n",
                "\n",
                "    fclose(fp);\n",
                "    free(string);\n",
                "    return 0;\n",
                "}"
            ]
        },
        {
            "attachments": {},
            "cell_type": "markdown",
            "id": "4fcac3f9",
            "metadata": {},
            "source": [
                "<pre>\n",
                "coppermine@ubuntu:/mnt/c1-cloud/Development/Code/CWNU_2023_2_C$ cd *17\n",
                "coppermine@ubuntu:/mnt/c1-cloud/Development/Code/CWNU_2023_2_C/Chapter_17$ ls\n",
                "Chapter_17.ipynb  img  sample.txt\n",
                "coppermine@ubuntu:/mnt/c1-cloud/Development/Code/CWNU_2023_2_C/Chapter_17$ cat sample.txt\n",
                "This is a test.\n",
                "coppermine@ubuntu:/mnt/c1-cloud/Development/Code/CWNU_2023_2_C/Chapter_17$ \n",
                "</pre>"
            ]
        }
    ],
    "metadata": {
        "kernelspec": {
            "display_name": "C",
            "language": "c",
            "name": "c"
        },
        "language_info": {
            "file_extension": ".c",
            "mimetype": "text/x-csrc",
            "name": "c"
        }
    },
    "nbformat": 4,
    "nbformat_minor": 5
}
