{
    "cells": [
        {
            "attachments": {},
            "cell_type": "markdown",
            "metadata": {},
            "source": [
                "**1. 텍스트 파일 proverbs.txt를 읽어서 각 줄의 앞에 줄 번호를 붙여서 화면에 출력하는 프로그램을 작성하라.**"
            ]
        },
        {
            "cell_type": "code",
            "execution_count": 1,
            "id": "aa0899fd",
            "metadata": {
                "vscode": {
                    "languageId": "c"
                }
            },
            "outputs": [
                {
                    "name": "stdout",
                    "output_type": "stream",
                    "text": [
                        "1: Absence makes the heart grow fonder.\n",
                        "2: Actions speak louder than words.\n",
                        "3: All for one and one for all.\n",
                        "4: All's fair in love and war.\n",
                        "5: all work and no play makes Jake a dull boy.\n",
                        "6: No pain, no gain."
                    ]
                }
            ],
            "source": [
                "#include <stdio.h>\n",
                "#define FILE_NAME \"proverbs.txt\"\n",
                "\n",
                "int main(void){\n",
                "    FILE* file = fopen(FILE_NAME, \"r\");\n",
                "    char buf[1024];\n",
                "\n",
                "    //파일 핸들 열기 실패\n",
                "    if(file == NULL){\n",
                "        printf(\"파일 읽기 오류.\");\n",
                "        return 0;\n",
                "    }\n",
                "\n",
                "    int idx = 1;\n",
                "    while(fgets(buf, sizeof(buf), file) != NULL){\n",
                "        printf(\"%d: %s\", idx++, buf);\n",
                "    }\n",
                "\n",
                "    fclose(file);\n",
                "    return 0;\n",
                "}"
            ]
        },
        {
            "attachments": {},
            "cell_type": "markdown",
            "id": "05518d84",
            "metadata": {},
            "source": [
                "**2. 텍스트 파일을 열어서 파일 안에 들어 있는 문자들을 모두 대문자로 변경하여 새로운 파일에 저장하는 프로그램을 작성하라. 새로운 파일을 화면에 출력해서 확인하자.**"
            ]
        },
        {
            "cell_type": "code",
            "execution_count": 8,
            "id": "02e30e53",
            "metadata": {
                "vscode": {
                    "languageId": "c"
                }
            },
            "outputs": [
                {
                    "name": "stdout",
                    "output_type": "stream",
                    "text": [
                        "첫 번째 파일 이름: proverbs.txt\n",
                        "두 번째 파일 이름: test2.txt\n",
                        "ABSENCE MAKES THE HEART GROW FONDER.\n",
                        "ACTIONS SPEAK LOUDER THAN WORDS.\n",
                        "ALL FOR ONE AND ONE FOR ALL.\n",
                        "ALL'S FAIR IN LOVE AND WAR.\n",
                        "ALL WORK AND NO PLAY MAKES JAKE A DULL BOY.\n",
                        "NO PAIN, NO GAIN."
                    ]
                }
            ],
            "source": [
                "#include <stdio.h>\n",
                "#include <ctype.h>\n",
                "#define STRING_SIZE 256\n",
                "\n",
                "typedef char string[STRING_SIZE];\n",
                "\n",
                "void string_toupper(string str){\n",
                "    while(*str != '\\0' && *str != '\\n'){\n",
                "        *str = toupper(*str);\n",
                "        str++;\n",
                "    }\n",
                "}\n",
                "\n",
                "int main(void){\n",
                "    string src_file;\n",
                "    string dst_file;\n",
                "\n",
                "    //NOTE: 파일 이름에 공백 사용할 수 없음.\n",
                "    //gets() 사용할 것.\n",
                "    printf(\"첫 번째 파일 이름: \");\n",
                "    scanf(\"%s\", src_file);\n",
                "    printf(\"두 번째 파일 이름: \");\n",
                "    scanf(\"%s\", dst_file);\n",
                "\n",
                "    FILE* src = fopen(src_file, \"r\");\n",
                "    FILE* dst = fopen(dst_file, \"w+\");\n",
                "\n",
                "    if(src == NULL || dst == NULL){\n",
                "        printf(\"파일 핸들 오류\");\n",
                "        return 0;\n",
                "    }\n",
                "\n",
                "    //파일 쓰기\n",
                "    string buf;\n",
                "    while(fgets(buf, STRING_SIZE, src) != NULL){\n",
                "        string_toupper(buf);\n",
                "        fputs(buf, dst);\n",
                "    }\n",
                "\n",
                "    //파일 내용 출력\n",
                "    rewind(dst);\n",
                "    while(fgets(buf, sizeof(buf), dst) != NULL){\n",
                "        printf(\"%s\", buf);\n",
                "    }\n",
                "\n",
                "    fclose(src);\n",
                "    fclose(dst);\n",
                "    return 0;\n",
                "}"
            ]
        },
        {
            "attachments": {},
            "cell_type": "markdown",
            "metadata": {},
            "source": [
                "**3. 두 개의 텍스트 파일을 서로 비교하는 프로그램을 작성하라. 파일의 이름은 사용자에게 입력받는다. 만약 두 개의 파일이 일치하면 \"파일은 서로 일치함\"을 출력하며 일치하지 않으면 일치하지 않는 첫 번째 문장을 출력하라.**"
            ]
        },
        {
            "cell_type": "code",
            "execution_count": 2,
            "id": "2a24c6a1",
            "metadata": {
                "vscode": {
                    "languageId": "c"
                }
            },
            "outputs": [
                {
                    "name": "stdout",
                    "output_type": "stream",
                    "text": [
                        "첫 번째 파일 이름: proverbs.txt\n",
                        "두 번째 파일 이름: test.txt\n",
                        "<< Absence makes the heart grow fonder.\n",
                        ">> ABSENCE MAKES THE HEART GROW FONDER.\n",
                        "\n"
                    ]
                }
            ],
            "source": [
                "#include <stdio.h>\n",
                "#include <string.h>\n",
                "#define STRING_SIZE 256\n",
                "\n",
                "typedef char string[STRING_SIZE];\n",
                "\n",
                "int main(void){\n",
                "    string src_file;\n",
                "    string dst_file;\n",
                "\n",
                "    //NOTE: 파일 이름에 공백 사용할 수 없음.\n",
                "    //gets() 사용할 것.\n",
                "    printf(\"첫 번째 파일 이름: \");\n",
                "    scanf(\"%s\", src_file);\n",
                "    printf(\"두 번째 파일 이름: \");\n",
                "    scanf(\"%s\", dst_file);\n",
                "\n",
                "    FILE* src = fopen(src_file, \"r\");\n",
                "    FILE* dst = fopen(dst_file, \"r\");\n",
                "\n",
                "    if(src == NULL || dst == NULL){\n",
                "        printf(\"파일 핸들 오류\");\n",
                "        return 0;\n",
                "    }\n",
                "\n",
                "    string buf_s, buf_d;\n",
                "    while(1){\n",
                "        if(fgets(buf_s, STRING_SIZE, src) == NULL ||\n",
                "         fgets(buf_d, STRING_SIZE, dst) == NULL) break;\n",
                "        if(strcmp(buf_s, buf_d) != 0){\n",
                "            printf(\"<< %s\", buf_s);\n",
                "            printf(\">> %s\\n\", buf_d);\n",
                "            fclose(src);\n",
                "            fclose(dst);\n",
                "            return 0;\n",
                "        }\n",
                "    }\n",
                "    \n",
                "    printf(\"파일이 일치함.\");\n",
                "    fclose(src);\n",
                "    fclose(dst);\n",
                "    return 0;\n",
                "}"
            ]
        },
        {
            "attachments": {},
            "cell_type": "markdown",
            "metadata": {},
            "source": [
                "**12.1 사람들의 이름과 전화번호를 파일에 생성하는 프로그램을 작성하여 보자. 사람들의 이름은 aa부터 zz까지 676개의 이름을 자동으로 생성한다. 전화번호도 100부터 775까지를 자동으로 생성한다.**"
            ]
        },
        {
            "cell_type": "code",
            "execution_count": 4,
            "metadata": {
                "vscode": {
                    "languageId": "c"
                }
            },
            "outputs": [],
            "source": [
                "#include <stdio.h>\n",
                "\n",
                "int main(void){\n",
                "    FILE* file = fopen(\"phone.txt\",\"w\");\n",
                "\n",
                "    if(file == NULL){\n",
                "        printf(\"파일 핸들 오류.\");\n",
                "        return 0;\n",
                "    }\n",
                "\n",
                "    int number = 100;\n",
                "    char buf[100];\n",
                "    //아스키 코드로 문자 조합\n",
                "    for(int i = 97; i <= 122; i++){\n",
                "        for(int j = 97; j <=122; j++){\n",
                "            sprintf(buf, \"%c%c %d\\n\", i, j, number++);\n",
                "            fputs(buf, file);\n",
                "        }\n",
                "    }\n",
                "\n",
                "    fclose(file);\n",
                "    return 0;\n",
                "}"
            ]
        },
        {
            "attachments": {},
            "cell_type": "markdown",
            "id": "829b5f6f",
            "metadata": {},
            "source": [
                "<pre>\n",
                "coppermine@ubuntu:/mnt/c1-cloud/Development/Code$ cd *C\n",
                "coppermine@ubuntu:/mnt/c1-cloud/Development/Code/CWNU_2023_2_C$ cd *15\n",
                "coppermine@ubuntu:/mnt/c1-cloud/Development/Code/CWNU_2023_2_C/Chapter_15$ ls\n",
                "Chapter_15.ipynb  phone.txt  proverbs.txt  test2.txt  test.txt  text2.txt\n",
                "coppermine@ubuntu:/mnt/c1-cloud/Development/Code/CWNU_2023_2_C/Chapter_15$ cat phone.txt\n",
                "aa 100\n",
                "ab 101\n",
                "ac 102\n",
                "ad 103\n",
                "ae 104\n",
                "af 105\n",
                "ag 106\n",
                "ah 107\n",
                "ai 108\n",
                "aj 109\n",
                "ak 110\n",
                "al 111\n",
                "am 112\n",
                "...\n",
                "zv 771\n",
                "zw 772\n",
                "zx 773\n",
                "zy 774\n",
                "zz 775\n",
                "coppermine@ubuntu:/mnt/c1-cloud/Development/Code/CWNU_2023_2_C/Chapter_15$ \n",
                "</pre>"
            ]
        },
        {
            "attachments": {},
            "cell_type": "markdown",
            "id": "ecd66e18",
            "metadata": {},
            "source": [
                "**12.2 위에서 생성된 전화번호부 파일 phone.txt를 읽고, 여기에서 사용자가 지정하는 사람의 전화번호를 찾아서 화면에 표시하고 종료하는 프로그램을 작성하여 보자.**"
            ]
        },
        {
            "cell_type": "code",
            "execution_count": 9,
            "id": "8cb13686",
            "metadata": {
                "vscode": {
                    "languageId": "c"
                }
            },
            "outputs": [
                {
                    "name": "stdout",
                    "output_type": "stream",
                    "text": [
                        "찾고자 하는 사람의 이름: ab\n",
                        "ab의 전화 번호는 101입니다."
                    ]
                }
            ],
            "source": [
                "#include <stdio.h>\n",
                "#include <string.h>\n",
                "\n",
                "int main(void){\n",
                "    FILE* file = fopen(\"phone.txt\", \"r\");\n",
                "    if(file == NULL){\n",
                "        printf(\"파일 핸들 오류.\");\n",
                "        return 0;\n",
                "    }\n",
                "\n",
                "    char target[100];\n",
                "    printf(\"찾고자 하는 사람의 이름: \");\n",
                "    scanf(\"%s\", target);\n",
                "\n",
                "    char buf[100];\n",
                "    while(fgets(buf, 100, file) != NULL){\n",
                "        int number;\n",
                "        char name[10];\n",
                "        sscanf(buf, \"%s %d\", name, &number);\n",
                "        //이름 비교\n",
                "        if(strcmp(name, target) == 0){\n",
                "            printf(\"%s의 전화 번호는 %d입니다.\", name, number);\n",
                "            fclose(file);\n",
                "            return 0;\n",
                "        }\n",
                "    }\n",
                "\n",
                "    printf(\"해당 사람을 찾을 수 없습니다.\");\n",
                "    fclose(file);\n",
                "    return 0;\n",
                "}"
            ]
        }
    ],
    "metadata": {
        "kernelspec": {
            "display_name": "C",
            "language": "c",
            "name": "c"
        },
        "language_info": {
            "file_extension": ".c",
            "mimetype": "text/x-csrc",
            "name": "text/x-csrc"
        }
    },
    "nbformat": 4,
    "nbformat_minor": 5
}
