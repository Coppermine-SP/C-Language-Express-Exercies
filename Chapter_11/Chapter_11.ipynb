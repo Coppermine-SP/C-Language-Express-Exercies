{
    "cells": [
        {
            "attachments": {},
            "cell_type": "markdown",
            "metadata": {},
            "source": [
                "**1. 실수를 받아서 정수부와 소수부로 분리하는 함수 get_frac(double f, int \\*pi, double \\*pd)를 작성하고 테스트하시오.**"
            ]
        },
        {
            "cell_type": "code",
            "execution_count": 5,
            "metadata": {},
            "outputs": [
                {
                    "name": "stdout",
                    "output_type": "stream",
                    "text": [
                        "실수를 입력하시오: 3.14\n",
                        "get_frac(3.140000)이 호출되었습니다.\n",
                        "정수부는 3입니다.\n",
                        "소수부는 0.14입니다."
                    ]
                }
            ],
            "source": [
                "#include <stdio.h>\n",
                "\n",
                "// 실수를 받아서 정수부와 소수부로 분리하는 함수\n",
                "void get_frac(double f, int *pi, double *pd){\n",
                "    printf(\"get_frac(%f)이 호출되었습니다.\\n\",f);\n",
                "    *pi = (int)f;\n",
                "    *pd = f - *pi;\n",
                "}\n",
                "\n",
                "int main(void){\n",
                "    double pd, input;\n",
                "    int pi;\n",
                "\n",
                "    printf(\"실수를 입력하시오: \");\n",
                "    scanf(\"%lf\", &input);\n",
                "    get_frac(input, &pi, &pd);\n",
                "    printf(\"정수부는 %d입니다.\\n\", pi);\n",
                "    printf(\"소수부는 %.2lf입니다.\", pd);\n",
                "\n",
                "    return 0;\n",
                "}"
            ]
        },
        {
            "attachments": {},
            "cell_type": "markdown",
            "metadata": {},
            "source": [
                "**2. 크기가 3인 int 형 배열을 생성하고 사용자로부터 정수를 받아서 배열을 채운다. 배열 요소의 주소와 값을 출력하는 프로그램을 작성하라.**"
            ]
        },
        {
            "cell_type": "code",
            "execution_count": 15,
            "metadata": {},
            "outputs": [
                {
                    "name": "stdout",
                    "output_type": "stream",
                    "text": [
                        "정수를 입력하시오: 10\n",
                        "정수를 입력하시오: 20\n",
                        "정수를 입력하시오: 30\n",
                        "===============\n",
                        "주소\t값\n",
                        "===============\n",
                        "2451EFBC 10\n",
                        "2451EFC0 20\n",
                        "2451EFC4 30\n"
                    ]
                }
            ],
            "source": [
                "#include <stdio.h>\n",
                "\n",
                "int main(void){\n",
                "    int arr[3];\n",
                "    for(int i = 0;i < 3;i++){\n",
                "        printf(\"정수를 입력하시오: \");\n",
                "        scanf(\"%d\", &arr[i]);\n",
                "    } \n",
                "    \n",
                "    // 배열의 값과 주소를 출력한다.\n",
                "    printf(\"===============\\n\");\n",
                "    printf(\"주소\\t값\\n\");\n",
                "    printf(\"===============\\n\"); \n",
                "    for(int i = 0; i < 3; i++) printf(\"%08X %d\\n\", &arr[i], arr[i]);\n",
                "    return 0;\n",
                "}"
            ]
        },
        {
            "attachments": {},
            "cell_type": "markdown",
            "metadata": {},
            "source": [
                "**3. 정수 배열을 받아서 요소들을 난수로 채우는 함수 array_fill()를 작성하고 테스트하시오.**"
            ]
        },
        {
            "cell_type": "code",
            "execution_count": 25,
            "metadata": {},
            "outputs": [
                {
                    "name": "stdout",
                    "output_type": "stream",
                    "text": [
                        "81294 47207 60936 19811 60046 55284 94809 71120 17900 59178 "
                    ]
                }
            ],
            "source": [
                "#include <stdio.h>\n",
                "#include <stdlib.h>\n",
                "#include <time.h>\n",
                "\n",
                "// int 배열의 요소를 랜덤한 수로 채우는 함수\n",
                "void array_fill(int A[], int size){\n",
                "    srand(time(NULL));\n",
                "    for(int i =0; i < size; i++){\n",
                "        A[i] = rand() % 100000;\n",
                "    }\n",
                "}\n",
                "\n",
                "int main(void){\n",
                "    const int size = 10;\n",
                "    int arr[size];\n",
                "    array_fill(arr, size);\n",
                "    for(int i = 0; i < size; i++)printf(\"%d \", arr[i]);\n",
                "}"
            ]
        },
        {
            "attachments": {},
            "cell_type": "markdown",
            "metadata": {},
            "source": [
                "**4. 문자형 배열을 생각하고, 배열의 요소에는 문자 H, E, L, L, 0가 저장되어 있고 맨 끝에는 0을 저장시킨다. 저장된 문자들의 개수를 세어서 반환하는 함수 my_strlen(char \\*p)를 작성하고 테스트하시오.**"
            ]
        },
        {
            "cell_type": "code",
            "execution_count": 29,
            "metadata": {},
            "outputs": [
                {
                    "name": "stdout",
                    "output_type": "stream",
                    "text": [
                        "저장된 문자열 = HELLO\n",
                        "문자열의 길이 = 5"
                    ]
                }
            ],
            "source": [
                "#include <stdio.h>\n",
                "\n",
                "// 문자열의 크기를 반환하는 함수\n",
                "int my_strlen(char *p){\n",
                "    int idx = 0;\n",
                "    while(*(p + idx) != 0){\n",
                "        idx++;\n",
                "    }\n",
                "    return idx;\n",
                "}\n",
                "\n",
                "int main(void){\n",
                "    char* str = \"HELLO\";\n",
                "    printf(\"저장된 문자열 = %s\\n\", str);\n",
                "    printf(\"문자열의 길이 = %d\", my_strlen(str));\n",
                "\n",
                "    return 0;\n",
                "}\n"
            ]
        },
        {
            "attachments": {},
            "cell_type": "markdown",
            "metadata": {},
            "source": [
                "**5. 크기가 1000인 char형 배열을 생성하고, 배열의 첫 번째 바이트에는 'a'를 저장하고, 다음 4바이트에는 정수 100을 저장하고, 다음 4바이트에는 float 형 실수 3.14를 저장하고 출력하시오.**"
            ]
        },
        {
            "cell_type": "code",
            "execution_count": 1,
            "metadata": {},
            "outputs": [
                {
                    "name": "stdout",
                    "output_type": "stream",
                    "text": [
                        "'a'\t100\t3.14"
                    ]
                }
            ],
            "source": [
                "#include <stdio.h>\n",
                "\n",
                "int main(void){\n",
                "    char arr[1000];\n",
                "    *arr = 'a';\n",
                "\n",
                "    /* char형 배열에 int나 float와 같은 크기가 다른 데이터를 저장하려면,\n",
                "     배열에 원하는 위치의 offset만큼 더한 후, 해당 데이터 타입의 포인터로 캐스팅 해야\n",
                "     데이터 손실이 발생하지 않는다.\n",
                "     \n",
                "     charptr => intptr로의 캐스팅을 수행하지 않은 잘못된 코드의 예시:\n",
                "     *(arr+1) = 100; \n",
                "     위의 코드는 4byte 크기의 int => 1byte 크기의 char 다운케스팅이 발생하여\n",
                "     1바이트를 넘는 크기의 수를 입력하면 오버플로우가 발생한다.\n",
                "    */\n",
                "    \n",
                "    *(int*)(arr+1) = 100;\n",
                "    *(float*)(arr+5) = 3.14;\n",
                "    printf(\"'%c'\\t\", *arr);\n",
                "    // 데이터를 배열에서 꺼낼때도 반드시 해당 데이터 타입의 포인터로 캐스팅 해야한다.\n",
                "    printf(\"%d\\t\", *(int*)(arr+1));\n",
                "    printf(\"%.2f\", *(float*)(arr+5));\n",
                "\n",
                "    return 0;\n",
                "}"
            ]
        },
        {
            "attachments": {},
            "cell_type": "markdown",
            "metadata": {},
            "source": [
                "**6. 정수 배열의 요소들을 화면에 출력하는 함수 array_print()를 작성하고 테스트하시오.**"
            ]
        },
        {
            "cell_type": "code",
            "execution_count": 7,
            "metadata": {},
            "outputs": [
                {
                    "name": "stdout",
                    "output_type": "stream",
                    "text": [
                        "A[] = { 1, 2, 3, 4, 5, 0, 0, 0, 0, 0, }\n"
                    ]
                }
            ],
            "source": [
                "#include <stdio.h>\n",
                "\n",
                "// 주어진 배열의 모든 원소를 출력하는 함수\n",
                "void array_print(int *A, int size){\n",
                "    printf(\"A[] = { \");\n",
                "    for(int i =0; i < size; i++){\n",
                "        printf(\"%d, \", *(A + i));\n",
                "    }\n",
                "    printf(\"}\\n\");\n",
                "}\n",
                "\n",
                "int main(void){\n",
                "    const int size = 10;\n",
                "    int A[] = {1,2,3,4,5,0,0,0,0,0};\n",
                "\n",
                "    array_print(A, size);\n",
                "    return 0;\n",
                "}"
            ]
        },
        {
            "attachments": {},
            "cell_type": "markdown",
            "metadata": {},
            "source": [
                "**7. 배열에 저장된 값을 역순으로 출력하는 프로그램을 작성하시오. 단, 인덱스를 사용하지 않고 포인터만을 사용하시오.**"
            ]
        },
        {
            "cell_type": "code",
            "execution_count": 13,
            "metadata": {},
            "outputs": [
                {
                    "name": "stdout",
                    "output_type": "stream",
                    "text": [
                        "A[] = 0 1 2 3 4 5 6 7 8 9 \n",
                        "A[] = 9 8 7 6 5 4 3 2 1 0 \n"
                    ]
                }
            ],
            "source": [
                "#include <stdio.h>\n",
                "#include <stdbool.h>\n",
                "\n",
                "// 주어진 배열의 모든 원소를 정방향 또는 역방향으로 출력하는 함수\n",
                "void array_print(int *array, int size, bool reverse){\n",
                "    printf(\"A[] = \");\n",
                "    for(int i = 0; i < size; i++){\n",
                "        printf(\"%d \", *(array + (reverse ? size - i - 1 : i)));\n",
                "    }\n",
                "    printf(\"\\n\");\n",
                "}\n",
                "\n",
                "int main(void){\n",
                "    const int size = 10;\n",
                "    int A[] = {0,1,2,3,4,5,6,7,8,9};\n",
                "\n",
                "    array_print(A, size, false);\n",
                "    array_print(A, size, true);\n",
                "    return 0;\n",
                "}"
            ]
        },
        {
            "attachments": {},
            "cell_type": "markdown",
            "metadata": {},
            "source": [
                "**8. 배열에 double형의 실수값들이 저장되어 있다. 이 실수값 중에서 최대값이 저장된 요소를 찾아서 요소의 주소를 반환하는 함수를 구현하고 테스트하시오.**"
            ]
        },
        {
            "cell_type": "code",
            "execution_count": 19,
            "metadata": {},
            "outputs": [
                {
                    "name": "stdout",
                    "output_type": "stream",
                    "text": [
                        "A[] = 1.23 3.14 9.16 100.90 \n",
                        "최대값은 100.90입니다."
                    ]
                }
            ],
            "source": [
                "#include <stdio.h>\n",
                "\n",
                "// double 배열을 출력하고 최대값의 참조를 반환하는 함수\n",
                "double* get_max(double* A, int size){\n",
                "    printf(\"A[] = \");\n",
                "    double* max = A;\n",
                "    for(int i = 0; i < size; i++){\n",
                "        double* value = (A+i);\n",
                "        printf(\"%.2lf \", *value);\n",
                "        if(*value > *max) max = value;\n",
                "    }\n",
                "    return max;\n",
                "}\n",
                "\n",
                "int main(void){\n",
                "    const int size = 4;\n",
                "    double A[] = {1.23, 3.14, 9.16, 100.90};\n",
                "\n",
                "    printf(\"\\n최대값은 %.2lf입니다.\", *get_max(A, size));\n",
                "    return 0;\n",
                "}"
            ]
        },
        {
            "attachments": {},
            "cell_type": "markdown",
            "metadata": {},
            "source": [
                "**9. 학생들의 평점이 4.3점 만점으로 저장된 배열 grades[]를 100점 만점으로 변환하여 배열 scores[]에 저장하는 함수를 작성하고 테스트하라.**"
            ]
        },
        {
            "cell_type": "code",
            "execution_count": 23,
            "metadata": {},
            "outputs": [
                {
                    "name": "stdout",
                    "output_type": "stream",
                    "text": [
                        "0.00 0.50 1.00 1.50 2.00 2.50 3.00 3.50 4.00 4.30 \n",
                        "0.00 11.63 23.26 34.88 46.51 58.14 69.77 81.40 93.02 100.00 \n"
                    ]
                }
            ],
            "source": [
                "#include <stdio.h>\n",
                "\n",
                "// 학점 배열을 점수 배열로 변환하는 함수\n",
                "void convert_score(const double* grades, double* scores, int size){\n",
                "    for(int i = 0; i < size; i++){\n",
                "        *(scores + i) = (*(grades + i) / 4.3) * 100;\n",
                "    }\n",
                "}\n",
                "\n",
                "// 배열을 출력하는 함수\n",
                "void print_array(const double* array, int size){\n",
                "    for(int i = 0; i < size; i++) printf(\"%.2lf \", *(array + i));\n",
                "    printf(\"\\n\");\n",
                "}\n",
                "\n",
                "int main(void){\n",
                "    const int size = 10;\n",
                "    double grades[] = {0.00, 0.50, 1.0, 1.5, 2.0, 2.5, 3.0, 3.5, 4.0, 4.3};\n",
                "    double scores[size];\n",
                "\n",
                "    convert_score(grades, scores, size);\n",
                "    print_array(grades, size);\n",
                "    print_array(scores, size);\n",
                "    return 0;\n",
                "}"
            ]
        },
        {
            "attachments": {},
            "cell_type": "markdown",
            "metadata": {},
            "source": [
                "**10. 정수 배열 A[]를 다른 정수 배열 B[]에 복사하는 함수를 작성하고 테스트하라.**"
            ]
        },
        {
            "cell_type": "code",
            "execution_count": 27,
            "metadata": {},
            "outputs": [
                {
                    "name": "stdout",
                    "output_type": "stream",
                    "text": [
                        "A[] = 1 2 3 0 0 0 0 0 0 0 \n",
                        "B[] = 1 2 3 0 0 0 0 0 0 0 \n"
                    ]
                }
            ],
            "source": [
                "#include <stdio.h>\n",
                "\n",
                "// 배열을 복사하는 함수\n",
                "void array_copy(const int* A, int* B, int size){\n",
                "    for(int i = 0; i < size; i++){\n",
                "        *(B + i) = *(A + i);\n",
                "    }\n",
                "}\n",
                "\n",
                "// 배열을 출력하는 함수\n",
                "void print_array(char name, const int* array, int size){\n",
                "    printf(\"%c[] = \", name);\n",
                "    for(int i = 0; i < size; i++) printf(\"%d \", *(array + i));\n",
                "    printf(\"\\n\");\n",
                "}\n",
                "\n",
                "int main(void){\n",
                "    const int size = 10;\n",
                "    int A[] = {1,2,3,0,0,0,0,0,0,0};\n",
                "    int B[size];\n",
                "\n",
                "    array_copy(A, B, size);\n",
                "    print_array('A', A, size);\n",
                "    print_array('B', B, size);\n",
                "    return 0;\n",
                "}"
            ]
        },
        {
            "attachments": {},
            "cell_type": "markdown",
            "metadata": {},
            "source": [
                "**11. 직원들의 기본급이 배열 A[]에, 보너스가 배열 B[]에 저장되어 있다. 기본급과 보너스를 합하여 이번 달에 지급할 월급의 총액을 계산하여 배열 C[]에 저장하는 함수를 작성하고 테스트하라.**"
            ]
        },
        {
            "cell_type": "code",
            "execution_count": 28,
            "metadata": {},
            "outputs": [
                {
                    "name": "stdout",
                    "output_type": "stream",
                    "text": [
                        "A[] = 1 2 3 0 0 0 0 0 0 0 \n",
                        "B[] = 4 5 6 0 0 0 0 0 0 0 \n",
                        "C[] = 5 7 9 0 0 0 0 0 0 0 \n"
                    ]
                }
            ],
            "source": [
                "#include <stdio.h>\n",
                "\n",
                "// 두 배열의 요소를 더하는 함수\n",
                "void array_add(const int* A, const int*B, int* C, int size){\n",
                "    for(int i =0; i < size; i++) C[i] = A[i] + B[i];\n",
                "}\n",
                "\n",
                "// 배열을 출력하는 함수\n",
                "void print_array(char name, const int* array, int size){\n",
                "    printf(\"%c[] = \", name);\n",
                "    for(int i = 0; i < size; i++) printf(\"%d \", *(array + i));\n",
                "    printf(\"\\n\");\n",
                "}\n",
                "\n",
                "int main(void){\n",
                "    const int size = 10;\n",
                "    int A[] = {1,2,3,0,0,0,0,0,0,0};\n",
                "    int B[] = {4,5,6,0,0,0,0,0,0,0};\n",
                "    int C[size];\n",
                "\n",
                "    array_add(A,B,C, size);\n",
                "    print_array('A', A, size);\n",
                "    print_array('B', B, size);\n",
                "    print_array('C', C, size);\n",
                "    return 0;\n",
                "}"
            ]
        },
        {
            "attachments": {},
            "cell_type": "markdown",
            "metadata": {},
            "source": [
                "**12. 직원들의 월급이 배열 A[]에 저장되어 있다고 가정하자. 이번 달에 회사에서 지급할 월급의 총액을 포인터와 배열 계산하고자 한다. 정수형 배열 요소들의 합을 구하여 반환하는 함수를 작성하고 테스트하라.**"
            ]
        },
        {
            "cell_type": "code",
            "execution_count": 30,
            "metadata": {},
            "outputs": [
                {
                    "name": "stdout",
                    "output_type": "stream",
                    "text": [
                        "A[] = 1 2 3 0 0 0 0 0 0 0 \n",
                        "월급의 합 = 6"
                    ]
                }
            ],
            "source": [
                "#include <stdio.h>\n",
                "\n",
                "// 모든 배열 요소의 합을 구하는 함수\n",
                "int array_sum(const int* array, int size){\n",
                "    int sum = 0;\n",
                "    for(int i = 0; i < size; i++) sum += *(array + i);\n",
                "    return sum;\n",
                "}\n",
                "\n",
                "// 배열을 출력하는 함수\n",
                "void print_array(char name, const int* array, int size){\n",
                "    printf(\"%c[] = \", name);\n",
                "    for(int i = 0; i < size; i++) printf(\"%d \", *(array + i));\n",
                "    printf(\"\\n\");\n",
                "}\n",
                "\n",
                "int main(void){\n",
                "    const int size = 10;\n",
                "    int A[] = {1,2,3,0,0,0,0,0,0,0};\n",
                "    print_array('A', A, size);\n",
                "    printf(\"월급의 합 = %d\", array_sum(A, size));\n",
                "\n",
                "    return 0;\n",
                "}\n"
            ]
        },
        {
            "attachments": {},
            "cell_type": "markdown",
            "metadata": {},
            "source": [
                "**13. 직원들의 월급이 저장된 배열에서 월급이 200만원인 사람을 찾고 싶을 때가 있다. 주어진 값을 배열 A[]에서 탐색하여 배열 요소의 인덱스를 반환하는 함수를 작성하고 테스트하라.**"
            ]
        },
        {
            "cell_type": "code",
            "execution_count": 37,
            "metadata": {},
            "outputs": [
                {
                    "name": "stdout",
                    "output_type": "stream",
                    "text": [
                        "월급이 200만원인 사람의 인덱스=3"
                    ]
                }
            ],
            "source": [
                "#include <stdio.h>\n",
                "\n",
                "// 배열에서 특정한 값을 가진 인덱스를 찾는 함수\n",
                "int search(int* array, int size, int value){\n",
                "    for(int i = 0; i < size; i++) if(array[i] == value) return i;\n",
                "    return -1;\n",
                "}\n",
                "\n",
                "int main(void){\n",
                "    const int size = 6;\n",
                "    int A[] = {100, 300, 700, 200, 400, 900};\n",
                "    printf(\"월급이 200만원인 사람의 인덱스=%d\", search(A, size, 200));\n",
                "\n",
                "    return 0;\n",
                "}"
            ]
        },
        {
            "attachments": {},
            "cell_type": "markdown",
            "metadata": {},
            "source": [
                "**14. 2개의 정수의 합과 차를 동시에 반환하는 함수를 작성하고 테스트하라. 포인터 매개 변수를 사용한다. 함수 매개 변수에 포인터를 사용하면 2개 이상의 값을 반환할 수 있다.**"
            ]
        },
        {
            "cell_type": "code",
            "execution_count": 39,
            "metadata": {},
            "outputs": [
                {
                    "name": "stdout",
                    "output_type": "stream",
                    "text": [
                        "원소들의 합 = 300\n",
                        "원소들의 차 = -100"
                    ]
                }
            ],
            "source": [
                "#include <stdio.h>\n",
                "\n",
                "// 두 정수의 합과 차를 구하는 함수\n",
                "void get_sum_diff(int x, int y, int* p_sum, int* p_diff){\n",
                "    *p_sum = x + y;\n",
                "    *p_diff = x - y;\n",
                "}\n",
                "\n",
                "int main(void){\n",
                "    int a = 100, b = 200;\n",
                "    int sum, diff;\n",
                "\n",
                "    get_sum_diff(a, b, &sum, &diff);\n",
                "    printf(\"원소들의 합 = %d\\n\", sum);\n",
                "    printf(\"원소들의 차 = %d\", diff);\n",
                "\n",
                "    return 0;\n",
                "}"
            ]
        },
        {
            "attachments": {},
            "cell_type": "markdown",
            "metadata": {},
            "source": [
                "**15. 사용자로부터 2개의 정수를 받아오는 함수를 구현하고, 이를 이용해 정수의 합을 계산하는 프로그램을 작성하시오.**"
            ]
        },
        {
            "cell_type": "code",
            "execution_count": 41,
            "metadata": {},
            "outputs": [
                {
                    "name": "stdout",
                    "output_type": "stream",
                    "text": [
                        "정수 2개를 입력하시오 : 10 20\n",
                        "정수의 합은 30"
                    ]
                }
            ],
            "source": [
                "#include <stdio.h>\n",
                "\n",
                "// 두 정수를 가져오는 함수\n",
                "void get_two_int(int* px, int* py){\n",
                "    printf(\"정수 2개를 입력하시오 : \");\n",
                "    scanf(\"%d %d\", px, py);\n",
                "}\n",
                "\n",
                "int main(void){\n",
                "    int x, y;\n",
                "    get_two_int(&x, &y);\n",
                "    printf(\"정수의 합은 %d\", x + y);\n",
                "\n",
                "    return 0;\n",
                "}"
            ]
        },
        {
            "attachments": {},
            "cell_type": "markdown",
            "metadata": {},
            "source": [
                "**16. 2개의 정렬된 정수 배열 A[]와 B[]를 합쳐서 하나의 정렬된 배열 C[]로 만드는 함수를 작성하고 테스트하시오.**"
            ]
        },
        {
            "cell_type": "code",
            "execution_count": 50,
            "metadata": {},
            "outputs": [
                {
                    "name": "stdout",
                    "output_type": "stream",
                    "text": [
                        "A[] = 2 5 7 8 \n",
                        "B[] = 1 3 4 6 \n",
                        "C[] = 1 2 3 4 5 6 7 8 \n"
                    ]
                }
            ],
            "source": [
                "#include <stdio.h>\n",
                "\n",
                "//Merge sort를 수행하는 함수\n",
                "void merge(const int* A, const int* B, int* C, int size){\n",
                "int i = 0, j = 0, k = 0;\n",
                "while(i < size && j < size){\n",
                "    if(A[i] <= B[j]) C[k++] = A[i++];\n",
                "    else C[k++] = B[j++];\n",
                "}\n",
                "\n",
                "// 나머지 요소 복사\n",
                "while(i < size){\n",
                "    C[k++] = A[i++];\n",
                "}\n",
                "while(j < size){\n",
                "    C[k++] = B[j++];\n",
                "}\n",
                "}\n",
                "\n",
                "// 배열을 출력하는 함수\n",
                "void print_array(char name, const int* array, int size){\n",
                "    printf(\"%c[] = \", name);\n",
                "    for(int i = 0; i < size; i++) printf(\"%d \", *(array + i));\n",
                "    printf(\"\\n\");\n",
                "}\n",
                "\n",
                "int main(void){\n",
                "    const int size = 4;\n",
                "    int A[] = {2,5,7,8};\n",
                "    int B[] = {1,3,4,6};\n",
                "    int C[size*2];\n",
                "\n",
                "    merge(A,B,C, size);\n",
                "    print_array('A', A, size);\n",
                "    print_array('B', B, size);\n",
                "    print_array('C', C, size*2);\n",
                "\n",
                "    return 0;\n",
                "}"
            ]
        }
    ],
    "metadata": {
        "kernelspec": {
            "display_name": "C",
            "language": "c",
            "name": "c"
        },
        "language_info": {
            "file_extension": ".c",
            "mimetype": "text/x-csrc",
            "name": "c"
        }
    },
    "nbformat": 4,
    "nbformat_minor": 5
}
