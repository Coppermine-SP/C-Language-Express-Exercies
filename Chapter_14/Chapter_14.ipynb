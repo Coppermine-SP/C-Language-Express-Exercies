{
    "cells": [
        {
            "cell_type": "markdown",
            "metadata": {},
            "source": [
                "**1. 정수 배열 { 30, 80, 100, 50, 60, 20, 40, 90, 70, 10 }을 내림차순으로 정렬하는 프로그램을 작성하라. 라이브러리 함수 qsort()를 사용하라.**"
            ]
        },
        {
            "cell_type": "code",
            "execution_count": 7,
            "metadata": {},
            "outputs": [
                {
                    "name": "stdout",
                    "output_type": "stream",
                    "text": [
                        "100 90 80 70 60 50 40 30 20 10 "
                    ]
                }
            ],
            "source": [
                "#include <stdio.h>\n",
                "#include <stdlib.h>\n",
                "\n",
                "//함수의 인자로 intptr를 받는 것도 동작하지만, 컴파일 경고 발생.\n",
                "int compare(const void* a, const void* b){\n",
                "    return *(int*)b - *(int*)a;\n",
                "}\n",
                "\n",
                "int main(void){\n",
                "    int array[]= {30, 80, 100, 50, 60, 20, 40, 90, 70, 10};\n",
                "    int arraySize = sizeof(array) / sizeof(int);\n",
                "\n",
                "    qsort(array, arraySize, sizeof(int), compare);\n",
                "    for(int i =0; i < arraySize; i++){\n",
                "        printf(\"%d \", array[i]);\n",
                "    }\n",
                "\n",
                "    return 0;\n",
                "}"
            ]
        },
        {
            "cell_type": "markdown",
            "metadata": {},
            "source": [
                "**2. 학생(학번 int number, 이름 char name[10], 성적 double score)을 나타내는 구조체 Student를 정의하라. 구조체 Student의 배열에 학생 30명의 정보를 저장하라. 모든 정보는 난수로 생성하라. 라이브러리 함수 qsort()를 사용하여 성적을 기준으로 정렬하는 프로그램을 작성하라.**"
            ]
        },
        {
            "cell_type": "code",
            "execution_count": 17,
            "metadata": {},
            "outputs": [
                {
                    "name": "stdout",
                    "output_type": "stream",
                    "text": [
                        "22번  100.00점\n",
                        "7번  99.00점\n",
                        "15번  94.00점\n",
                        "10번  88.00점\n",
                        "23번  85.00점\n",
                        "3번  83.00점\n",
                        "2번  81.00점\n",
                        "25번  73.00점\n",
                        "21번  71.00점\n",
                        "18번  65.00점\n",
                        "6번  63.00점\n",
                        "26번  59.00점\n",
                        "13번  58.00점\n",
                        "1번  57.00점\n",
                        "27번  56.00점\n",
                        "12번  52.00점\n",
                        "9번  47.00점\n",
                        "11번  47.00점\n",
                        "5번  38.00점\n",
                        "8번  35.00점\n",
                        "20번  35.00점\n",
                        "24번  34.00점\n",
                        "16번  32.00점\n",
                        "14번  19.00점\n",
                        "0번  16.00점\n",
                        "19번  11.00점\n",
                        "28번  11.00점\n",
                        "4번  7.00점\n",
                        "17번  5.00점\n",
                        "29번  5.00점\n"
                    ]
                }
            ],
            "source": [
                "#include <stdio.h>\n",
                "#include <stdlib.h>\n",
                "#include <time.h>\n",
                "const int LENGTH = 30;\n",
                "\n",
                "struct Student{\n",
                "    int number;\n",
                "    char name[10];\n",
                "    double score;\n",
                "};\n",
                "\n",
                "int compare(const void* a, const void* b){\n",
                "    return ((struct Student*)b)->score - ((struct Student*)a)->score;\n",
                "}\n",
                "\n",
                "void fill_array(struct Student* arr, int length){\n",
                "    srand(time(NULL));\n",
                "    for(int i = 0; i < length; i++){\n",
                "        arr[i].number = i;\n",
                "        strcpy(arr[i].name, \"김태걸\");\n",
                "        arr[i].score = (double)(rand() % 100 + 1);\n",
                "    }\n",
                "}\n",
                "\n",
                "int main(void){\n",
                "    struct Student arr[LENGTH];\n",
                "    fill_array(arr, LENGTH);\n",
                "\n",
                "    qsort(arr, LENGTH, sizeof(struct Student), compare);\n",
                "\n",
                "    //정렬 후 출력\n",
                "    for(int i = 0; i < LENGTH; i++){\n",
                "        printf(\"%d번  %.2lf점\\n\", arr[i].number, arr[i].score);\n",
                "    }\n",
                "    return 0;\n",
                "}\n",
                "\n"
            ]
        },
        {
            "cell_type": "markdown",
            "metadata": {},
            "source": [
                "**4. 2차원 배열에 저장된 정수의 합을 구하는 프로그램을 작성하라. 이때, 1차원 배열에 저장된 정수의 합을 구하는 함수 get_sum(int array[], int size)를 사용하라.**"
            ]
        },
        {
            "cell_type": "code",
            "execution_count": 5,
            "metadata": {},
            "outputs": [
                {
                    "name": "stdout",
                    "output_type": "stream",
                    "text": [
                        "정수의 합 = 180"
                    ]
                }
            ],
            "source": [
                "#include <stdio.h>\n",
                "#include <stdlib.h>\n",
                "\n",
                "int get_sum(int* arr, int size){\n",
                "    int total = 0;\n",
                "    for(int i = 0; i < size; i++){\n",
                "        total += arr[i];\n",
                "    }\n",
                "    return total;\n",
                "}\n",
                "\n",
                "int main(void){\n",
                "    int arr[3][6] = {\n",
                "        {10, 10, 10, 10, 10 ,10},\n",
                "        {10, 10, 10, 10, 10 ,10},\n",
                "        {10, 10, 10, 10, 10 ,10}\n",
                "    };\n",
                "\n",
                "    int total = 0;\n",
                "    for(int i = 0; i < 3; i++){\n",
                "        //각 row를 함수의 파라미터로 전달\n",
                "        total += get_sum(arr[i], 6);\n",
                "    }\n",
                "    printf(\"정수의 합 = %d\", total);\n",
                "    return 0;\n",
                "\n",
                "}"
            ]
        },
        {
            "cell_type": "markdown",
            "metadata": {},
            "source": [
                "**6. 문자열의 배열을 인수로 받아서 저장된 문자열을 전부 출력하는 pr_str_array() 함수를 작성하라. 이때, 함수의 원형은 void pr_str_array(char ** dp, int n)이다.**"
            ]
        },
        {
            "cell_type": "code",
            "execution_count": 6,
            "metadata": {},
            "outputs": [
                {
                    "name": "stdout",
                    "output_type": "stream",
                    "text": [
                        "A bad shearer never had a good sickle.\n",
                        "A bad workman (always) blames his tools.\n",
                        "A bad workman quarrels with his tools.\n"
                    ]
                }
            ],
            "source": [
                "#include <stdio.h>\n",
                "\n",
                "void pr_str_array(char** dp, int n){\n",
                "    for(int i = 0; i < n; i++){\n",
                "        printf(\"%s\\n\", dp[i]);\n",
                "    }\n",
                "}\n",
                "\n",
                "int main(void){\n",
                "    char* str_list[] = {\n",
                "        \"A bad shearer never had a good sickle.\",\n",
                "        \"A bad workman (always) blames his tools.\",\n",
                "        \"A bad workman quarrels with his tools.\"\n",
                "    };\n",
                "\n",
                "    pr_str_array(str_list, 3);\n",
                "    return 0;\n",
                "}\n",
                "\n"
            ]
        },
        {
            "attachments": {},
            "cell_type": "markdown",
            "metadata": {},
            "source": [
                "**8. 문자열을 가리키고 있는 포인터의 배열을 인수로 받아서 문자열을 알파벳 순으로 정렬시키는 함수 sort_strings()를 작성하고 테스트하라.**"
            ]
        },
        {
            "cell_type": "code",
            "execution_count": 15,
            "metadata": {},
            "outputs": [
                {
                    "name": "stdout",
                    "output_type": "stream",
                    "text": [
                        "dst\n",
                        "mycopy\n",
                        "src\n"
                    ]
                }
            ],
            "source": [
                "#include <stdio.h>\n",
                "#include <stdlib.h>\n",
                "#include <string.h>\n",
                "\n",
                "//기준 함수\n",
                "int compare(const void* a, const void* b){\n",
                "    return strcmp(*(char**)a, *(char**)b);\n",
                "}\n",
                "\n",
                "\n",
                "void sort_strings(char *s[], int size){\n",
                "    qsort(s, size, sizeof(char*), compare);\n",
                "}\n",
                "\n",
                "int main(void){\n",
                "    char* str_list[] = {\n",
                "        \"dst\",\n",
                "        \"mycopy\",\n",
                "        \"src\"\n",
                "    };\n",
                "\n",
                "    sort_strings(str_list, 3);\n",
                "    for(int i = 0; i < 3; i++){\n",
                "        printf(\"%s\\n\", str_list[i]);\n",
                "    }\n",
                "    return 0;\n",
                "}\n"
            ]
        },
        {
            "cell_type": "markdown",
            "metadata": {},
            "source": [
                "**9. 디지털 영상은 보통 2차원 배열로 표현된다. 각 배열 요소는 픽셀이라고 불린다. 흑백 영상의 경우, 하나의 픽셀은 보통 0에서 255의 값을 가지며 0은 검정색을, 255는 흰색을 나타낸다. 중간값은 회색을 나타낸다. 영상이 unsigned char image[ROWS][COLS]에 저장되어 있다고 가정하고 픽셀 값이 128 미만이면 0으로 만들고 128 이상이면 255로 만들어보자.**"
            ]
        },
        {
            "cell_type": "code",
            "execution_count": 18,
            "metadata": {},
            "outputs": [
                {
                    "name": "stdout",
                    "output_type": "stream",
                    "text": [
                        "Original Image:\n",
                        "225 206 185 208  55  77 236 129  24 190 \n",
                        " 34 175 175 173 214  18 201 161  45 136 \n",
                        "101  97  42 214 111 245  85  71  17  15 \n",
                        "163 242  92 219  66  18  40  46  18  64 \n",
                        "235  51 110  26 223  69 171  40 229 215 \n",
                        "176 201  57 217 159 167  79 115 237 222 \n",
                        "  2  16  80 220 234 145 238  18 190 127 \n",
                        " 81  41 178 191 194  17 131 109  57 104 \n",
                        " 68 104  49 124  65  79 162  15 193 143 \n",
                        "109  66 158 188  31   8  78 140  26 139 \n",
                        "\n",
                        "Threshold filtered:\n",
                        "255 255 255 255   0   0 255 255   0 255 \n",
                        "  0 255 255 255 255   0 255 255   0 255 \n",
                        "  0   0   0 255   0 255   0   0   0   0 \n",
                        "255 255   0 255   0   0   0   0   0   0 \n",
                        "255   0   0   0 255   0 255   0 255 255 \n",
                        "255 255   0 255 255 255   0   0 255 255 \n",
                        "  0   0   0 255 255 255 255   0 255   0 \n",
                        "  0   0 255 255 255   0 255   0   0   0 \n",
                        "  0   0   0   0   0   0 255   0 255 255 \n",
                        "  0   0 255 255   0   0   0 255   0 255 "
                    ]
                }
            ],
            "source": [
                "#include <stdio.h>\n",
                "#include <stdlib.h>\n",
                "#include <time.h>\n",
                "#define ROWS 10\n",
                "#define COLS 10\n",
                "unsigned char image[ROWS][COLS];\n",
                "\n",
                "//이미지 배열의 모든 요소에 대하여 파라미터로 받은 함수를 실행.\n",
                "void image_for_each(void(*f)(unsigned char* value, int offset)){\n",
                "    int idx = 0;\n",
                "    unsigned char* pixel = &image[0][0];\n",
                "    while(idx < ROWS * COLS){\n",
                "        f(pixel, idx);\n",
                "        idx++, pixel++;\n",
                "    }\n",
                "}\n",
                "\n",
                "void fill_random_value(unsigned char* value, int offset){\n",
                "    *value = rand() % 255 +1;\n",
                "}\n",
                "\n",
                "void print_pixel(unsigned char* value, int offset){\n",
                "    if(offset % ROWS == 0 && offset != 0) printf(\"\\n\");\n",
                "    printf(\"%3d \", *value);    \n",
                "}\n",
                "\n",
                "void threshold_filter(unsigned char* value, int offset){\n",
                "    if(*value < 128) *value = 0;\n",
                "    else *value =255;\n",
                "}\n",
                "\n",
                "int main(void){\n",
                "    srand(time(NULL));\n",
                "    printf(\"Original Image:\\n\");\n",
                "    image_for_each(fill_random_value);\n",
                "    image_for_each(print_pixel);\n",
                "\n",
                "    printf(\"\\n\\nThreshold filtered:\\n\");\n",
                "    image_for_each(threshold_filter);\n",
                "    image_for_each(print_pixel);\n",
                "\n",
                "    return 0;\n",
                "}"
            ]
        },
        {
            "cell_type": "markdown",
            "metadata": {},
            "source": [
                "**10. 크기가 3×3인 2차원 배열을 다른 2차원 배열로 복사하는 함수 void array_copy(int src[][WIDTH], int dst[][WIDTH])를 구현하고 테스트하여 보라. 수행 속도를 위하여 배열 첨자 방법 대신에 포인터를 사용해보자.**"
            ]
        },
        {
            "cell_type": "code",
            "execution_count": 34,
            "metadata": {},
            "outputs": [
                {
                    "name": "stdout",
                    "output_type": "stream",
                    "text": [
                        "<원본 2차원 배열>\n",
                        "100 30 67 \n",
                        "89 50 12 \n",
                        "19 60 90 \n",
                        "\n",
                        "<복사본 2차원 배열>\n",
                        "100 30 67 \n",
                        "89 50 12 \n",
                        "19 60 90 "
                    ]
                }
            ],
            "source": [
                "#include <stdio.h>\n",
                "#define ARRAY_SIZE 3\n",
                "\n",
                "//포인터 연산을 통하여 연속적인 다차원 배열에 접근.\n",
                "void array_copy(int src[][ARRAY_SIZE], int dst[][ARRAY_SIZE]){\n",
                "    int idx = 0;\n",
                "    int *ptr_src = &src[0][0], *ptr_dst = &dst[0][0];\n",
                "    while(idx < ARRAY_SIZE * ARRAY_SIZE){\n",
                "        *ptr_dst = *ptr_src;\n",
                "        ptr_src++, ptr_dst++, idx++;\n",
                "    }\n",
                "}\n",
                "\n",
                "void array_print(int arr[][ARRAY_SIZE]){\n",
                "    int idx = 0;\n",
                "    int* ptr = &arr[0][0];\n",
                "    while(idx < ARRAY_SIZE * ARRAY_SIZE){\n",
                "        if(idx % ARRAY_SIZE == 0) printf(\"\\n\");\n",
                "        printf(\"%d \", *ptr);\n",
                "        idx++, ptr++;\n",
                "    }\n",
                "}\n",
                "\n",
                "int main(void){\n",
                "    int arr[3][3] = {\n",
                "        {100, 30, 67},\n",
                "        {89, 50, 12},\n",
                "        {19, 60, 90}\n",
                "    };\n",
                "\n",
                "    int copy_arr[3][3];\n",
                "\n",
                "    printf(\"<원본 2차원 배열>\");\n",
                "    array_print(arr);\n",
                "    array_copy(arr, copy_arr);\n",
                "    printf(\"\\n\\n<복사본 2차원 배열>\");\n",
                "    array_print(copy_arr);\n",
                "\n",
                "    return 0;\n",
                "}"
            ]
        }
    ],
    "metadata": {
        "kernelspec": {
            "display_name": "C",
            "language": "c",
            "name": "c"
        },
        "language_info": {
            "file_extension": ".c",
            "mimetype": "text/x-csrc",
            "name": "c"
        }
    },
    "nbformat": 4,
    "nbformat_minor": 5
}
