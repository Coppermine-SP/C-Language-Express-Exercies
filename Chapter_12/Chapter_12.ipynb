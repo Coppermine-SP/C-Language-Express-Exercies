{
    "cells": [
        {
            "cell_type": "markdown",
            "metadata": {},
            "source": [
                "**1. 사용자로부터 문자열을 입력받아서 역순으로 출력하는 프로그램을 작성하시오.**"
            ]
        },
        {
            "cell_type": "code",
            "execution_count": null,
            "metadata": {},
            "outputs": [],
            "source": []
        },
        {
            "cell_type": "markdown",
            "metadata": {},
            "source": [
                "**2. 문자열을 입력으로 받아서 문자열에 포함된 모든 공백 문자를 삭제하는 함수를 작성하고 테스트하시오.**"
            ]
        },
        {
            "cell_type": "code",
            "execution_count": null,
            "metadata": {},
            "outputs": [],
            "source": []
        },
        {
            "cell_type": "markdown",
            "metadata": {},
            "source": [
                "**3. 문자열을 입력으로 받아서 사용자가 지정하는 문자를 삭제하는 함수를 작성하고 테스트하시오.**"
            ]
        },
        {
            "cell_type": "code",
            "execution_count": null,
            "metadata": {},
            "outputs": [],
            "source": []
        },
        {
            "attachments": {},
            "cell_type": "markdown",
            "metadata": {},
            "source": [
                "**4. 문자열 안에 포함된 특정한 문자의 개수를 세는 함수 int str_chr(char \\*s, int c)를 작성하시오. s는 문자열이고 c는 개수를 셀 문자입니다.**"
            ]
        },
        {
            "cell_type": "code",
            "execution_count": null,
            "metadata": {},
            "outputs": [],
            "source": []
        },
        {
            "cell_type": "markdown",
            "metadata": {},
            "source": [
                "**5. 사용자로부터 받은 문자열에서 각 문자가 나타나는 빈도를 계산하여 출력하는 프로그램을 작성하시오.**"
            ]
        },
        {
            "cell_type": "code",
            "execution_count": null,
            "metadata": {},
            "outputs": [],
            "source": []
        },
        {
            "cell_type": "markdown",
            "metadata": {},
            "source": [
                "**6. 문자열을 사용자로부터 받아서 알파벳 문자의 개수, 숫자의 개수, 기타 특수 문자의 개수를 출력하는 프로그램을 작성하여 보자. 문자열 안의 문자들을 아스키 코드 값에 따라 분류한다.**"
            ]
        },
        {
            "cell_type": "code",
            "execution_count": null,
            "metadata": {},
            "outputs": [],
            "source": []
        },
        {
            "attachments": {},
            "cell_type": "markdown",
            "metadata": {},
            "source": [
                "**7. 사용자에게 질문을 제시하고 답변을 받아서 긍정이면 1을 반환하고 부정이면 0을 반환하는 함수 get_response(char \\*prompt)를 작성하고 테스트하라. 긍정을 의미하는 문자열은 'YES', 'Yes', 'yes', 'OK', 'ok'로 가정하라. 부정을 의미하는 문자열은 'NO', 'No', 'no'로 가정하라. 대소문자는 구별하지 않는다. 문자열을 비교할 때는 strcmp()를 사용한다. 대소문자를 구별하지 않으려면 입력되는 문자들을 tolower()를 이용하여서 모두 소문자로 만들면 된다.**"
            ]
        },
        {
            "cell_type": "code",
            "execution_count": null,
            "metadata": {},
            "outputs": [],
            "source": []
        },
        {
            "cell_type": "markdown",
            "metadata": {},
            "source": [
                "**8. 사용자가 입력한 문자열에서 단어의 개수를 계산하여 화면에 출력하는 프로그램을 작성하여 보자. strtok() 함수를 사용하여 보자. 첫 번째 호출은 strtok(s, ' ')이고 두 번째 호출부터는 strtok(NULL, ' ')와 같이 호출한다. 더 이상 단어가 없으면 NULL을 반환한다.**"
            ]
        },
        {
            "cell_type": "code",
            "execution_count": null,
            "metadata": {},
            "outputs": [],
            "source": []
        },
        {
            "cell_type": "markdown",
            "metadata": {},
            "source": [
                "**9. 패스워드를 입력받을 때는 사용자가 입력한 문자 대신에 * 문자를 표시한다. _getch()를 이용하여 사용자가 입력한 문자를 비밀스럽게 입력받는 프로그램을 작성하여 보자.**"
            ]
        },
        {
            "cell_type": "code",
            "execution_count": null,
            "metadata": {},
            "outputs": [],
            "source": []
        },
        {
            "cell_type": "markdown",
            "metadata": {},
            "source": [
                "**10. 사용자가 입력한 문자열에서 특정한 단어의 개수를 계산하여 화면에 출력하는 프로그램을 작성하여 보자. strstr() 함수를 사용해보자.**"
            ]
        },
        {
            "cell_type": "code",
            "execution_count": null,
            "metadata": {},
            "outputs": [],
            "source": []
        },
        {
            "cell_type": "markdown",
            "metadata": {},
            "source": [
                "**11. 간단한 철자 교정 프로그램을 작성하라. 문자열을 입력으로 받아서 문자열 안에 마침표가 있는지, 문자열의 첫 번째 문자가 대문자인지를 검사하라. 만약 대문자가 아니면 대문자로 변환하라. 또한 문장의 끝에 마침표가 존재하는지를 검사하라. 마침표가 없으면 넣어주라.**"
            ]
        },
        {
            "cell_type": "code",
            "execution_count": null,
            "metadata": {},
            "outputs": [],
            "source": []
        },
        {
            "cell_type": "markdown",
            "metadata": {},
            "source": [
                "**12. 회문(palindrome)이란 바로 읽거나 거꾸로 읽어도 같은 글이 되는 단어이다. 사용자로부터 문자열을 받아서 회문 여부를 판별하여 그 결과를 화면에 출력하는 프로그램을 작성하라.**"
            ]
        },
        {
            "cell_type": "code",
            "execution_count": null,
            "metadata": {},
            "outputs": [],
            "source": []
        },
        {
            "cell_type": "markdown",
            "metadata": {},
            "source": [
                "**13. 사용자로부터 한 줄의 문자열을 입력받아서 문자열에 포함된 단어들을 역순으로 배열하여 출력하는 프로그램을 작성하라.**"
            ]
        },
        {
            "cell_type": "code",
            "execution_count": null,
            "metadata": {},
            "outputs": [],
            "source": []
        },
        {
            "cell_type": "markdown",
            "metadata": {},
            "source": [
                "**14. 사용자에게 영어 이름을 성과 이름으로 나누어서 대문자로 입력하도록 하여서 성과 이름의 위치를 바꾸고 소문자로 변환하여 출력하는 프로그램을 작성하라.**"
            ]
        },
        {
            "cell_type": "code",
            "execution_count": null,
            "metadata": {},
            "outputs": [],
            "source": []
        },
        {
            "cell_type": "markdown",
            "metadata": {},
            "source": [
                "**15. 사용자로부터 문자열을 받아서 문자열에 포함된 구두점의 개수를 세는 프로그램을 작성하라. 여기서 구두점에는 마침표와 쉼표만이 포함된다고 가정하라.**"
            ]
        },
        {
            "cell_type": "code",
            "execution_count": null,
            "metadata": {},
            "outputs": [],
            "source": []
        },
        {
            "attachments": {},
            "cell_type": "markdown",
            "metadata": {},
            "source": [
                "**16. 사용자에게 최대 80 문자의 문자열을 입력받고, 찾을 문자열과 바꿀 문자열을 입력받아 문자열을 찾아 바꾸는 기능을 구현하시오.**"
            ]
        },
        {
            "cell_type": "code",
            "execution_count": null,
            "metadata": {},
            "outputs": [],
            "source": []
        },
        {
            "attachments": {},
            "cell_type": "markdown",
            "metadata": {},
            "source": [
                "**17. 사용자로부터 받은 문자열을 버블 정렬 방법을 이용하여 정렬하고 출력하는 프로그램을 작성하시오.**"
            ]
        },
        {
            "cell_type": "code",
            "execution_count": null,
            "metadata": {},
            "outputs": [],
            "source": []
        },
        {
            "attachments": {},
            "cell_type": "markdown",
            "metadata": {},
            "source": [
                "**18. 연산의 이름을 문자열로 받아서 해당 연산을 실행하는 프로그램을 작성하시오. 연산을 나타내는 문자열은 'add', 'sub', 'mul', 'div'로 하시오.**"
            ]
        },
        {
            "cell_type": "code",
            "execution_count": null,
            "metadata": {},
            "outputs": [],
            "source": []
        },
        {
            "attachments": {},
            "cell_type": "markdown",
            "metadata": {},
            "source": [
                "**19. 글자들이 흘러가는 LED 전광판을 프로그램으로 구현하시오.**"
            ]
        },
        {
            "cell_type": "code",
            "execution_count": null,
            "metadata": {},
            "outputs": [],
            "source": []
        },
        {
            "cell_type": "markdown",
            "metadata": {},
            "source": [
                "**20. XOR 암호화 방법을 이용하여 평문을 암호화하고 복호화하는 프로그램을 작성하시오.**"
            ]
        },
        {
            "cell_type": "code",
            "execution_count": null,
            "metadata": {},
            "outputs": [],
            "source": []
        },
        {
            "cell_type": "markdown",
            "metadata": {},
            "source": [
                "**21. 애나그램 게임을 작성하시오. 사용자로부터 입력받은 문자열을 재배치하여 원래의 단어를 맞추는 프로그램을 작성하시오.**"
            ]
        },
        {
            "cell_type": "code",
            "execution_count": null,
            "metadata": {},
            "outputs": [],
            "source": []
        },
        {
            "cell_type": "markdown",
            "metadata": {},
            "source": [
                "**22. 런길이 인코딩을 이용하여 텍스트를 압축하는 프로그램을 작성하시오. 반복되는 문자와 그 개수를 이용하여 문자열을 압축하시오.**"
            ]
        },
        {
            "cell_type": "code",
            "execution_count": null,
            "metadata": {},
            "outputs": [],
            "source": []
        }
    ],
    "metadata": {
        "language_info": {
            "name": "python"
        }
    },
    "nbformat": 4,
    "nbformat_minor": 5
}
