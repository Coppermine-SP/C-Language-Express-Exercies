{
    "cells": [
        {
            "cell_type": "markdown",
            "metadata": {},
            "source": [
                "**1. 덧셈, 뺄셈, 곱셈, 나눗셈을 지원하는 계산기 프로그램을 작성하라. 이 프로그램은 각 연산들이 몇 번 계산되었는지를 기억해야 한다. 각 연산을 지원하는 함수들은 자신이 호출된 횟수를 화면에 출력해야 한다. 이를 위해 정적 지역 변수와 전역 변수를 사용하여 프로그램을 작성하라.**"
            ]
        },
        {
            "cell_type": "code",
            "execution_count": null,
            "id": "e32655a0",
            "metadata": {},
            "outputs": [],
            "source": [
                "#include <stdio.h>\n",
                "\n",
                "int main(void){\n",
                "}"
            ]
        },
        {
            "cell_type": "markdown",
            "metadata": {},
            "source": [
                "**2. 주사위를 던져서 각각의 면이 몇 번 나왔는지를 출력하는 프로그램을 작성하라. 주사위의 면은 난수를 이용하여 생성하라. 주사위를 던지는 함수 get_dice_face()를 만들고 이 함수 안에서 각각의 면이 나올 때마다 그 횟수를 정적 지역 변수를 이용하여 기억하게 하라. get_dice_face() 호출 횟수가 100이 되면 각 면의 횟수를 출력하라.**"
            ]
        },
        {
            "cell_type": "code",
            "execution_count": null,
            "metadata": {},
            "outputs": [],
            "source": []
        },
        {
            "cell_type": "markdown",
            "metadata": {},
            "source": [
                "**3. 로그인 시에 아이디를 검사하는 함수 int check()를 작성해서 테스트하라. check()가 한번 호출될 때마다 비밀번호를 질문하고 일치 여부를 0과 1으로 반환하라. 비밀번호는 숫자 1234로 고정되어 있다고 가정하라. check()가 3번 이상 호출되고 아이디가 일치하지 않으면 check()는 '로그인 시도 횟수 초과' 메시지를 출력하라. check() 함수 안에 정적 지역 변수를 선언하여 사용해보라.**"
            ]
        },
        {
            "cell_type": "code",
            "execution_count": null,
            "metadata": {},
            "outputs": [],
            "source": []
        },
        {
            "cell_type": "markdown",
            "metadata": {},
            "source": [
                "**4. 본문에서 설명한 바와 같이 정적 변수는 초기화를 딱 한번만 수행하는 경우에도 사용된다. 난수를 생성하여 반환하는 함수 get_random()을 작성하여 테스트하라. get_random()이 처음으로 호출되는 경우에는 srand()를 호출하여서 난수의 시드를 초기화하고 그렇지 않으면 단순히 rand()를 호출하여 난수를 반환한다. 정적 지역 변수 inited를 작성하여 사용해본다. 본문의 LAB 문제를 참조하라.**"
            ]
        },
        {
            "cell_type": "code",
            "execution_count": null,
            "metadata": {},
            "outputs": [],
            "source": []
        },
        {
            "cell_type": "markdown",
            "metadata": {},
            "source": [
                "**5. math.c 파일 안에 전역 변수 pi를 선언하라. pi는 3.14로 초기화된다. main.c에서는 extern 키워드를 사용하여 math.c에 정의된 pi의 값을 출력하는 프로그램을 작성하라.**"
            ]
        },
        {
            "cell_type": "code",
            "execution_count": null,
            "metadata": {},
            "outputs": [],
            "source": []
        },
        {
            "cell_type": "markdown",
            "metadata": {},
            "source": [
                "**6. 1부터 n까지의 합 (1+2+3+ ... +n)을 계산하는 문제를 순환기법을 이용하여 작성하라. sum(3)은 3+sum(2)로 바꿀 수 있다.**"
            ]
        },
        {
            "cell_type": "code",
            "execution_count": null,
            "metadata": {},
            "outputs": [],
            "source": []
        },
        {
            "cell_type": "markdown",
            "metadata": {},
            "source": [
                "**7. 순환기법을 이용하여 지수값을 계산하는 함수 power(int base, int power_raised)를 작성하고 테스트하라. power(2, 3)가 호출되면 2^3을 계산하여 반환한다. power(b, p)가 호출되면 이것을 b*power(b, p-1)로 바꾸어서 호출하라.**"
            ]
        },
        {
            "cell_type": "code",
            "execution_count": null,
            "metadata": {},
            "outputs": [],
            "source": []
        },
        {
            "cell_type": "markdown",
            "metadata": {},
            "source": [
                "**8. 순환 호출을 이용하여 정수의 각 자리수를 출력하는 함수 show_digit(int x)를 작성하고 테스트하라. 즉 정수가 1234이면 화면에 1 2 3 4와 같이 출력한다. 함수는 일의 자리를 출력하고 나머지 부분을 대상으로 다시 같은 함수를 순환 호출한다. 예를 들어서 1234의 4를 출력하고 나머지 123을 가지고 다시 같은 함수를 순환 호출한다. 1234를 10으로 나누면 123이 되고 4는 1234를 10으로 나눈 나머지이다. 정수 x를 10으로 나눈 값을 가지고 show_digit(x/10);와 같이 다시 순환호출하라.**"
            ]
        },
        {
            "cell_type": "code",
            "execution_count": null,
            "metadata": {},
            "outputs": [],
            "source": []
        },
        {
            "cell_type": "markdown",
            "metadata": {},
            "source": [
                "**9. 사용자로부터 여러 개의 문자를 받아서 역순으로 출력하는 프로그램을 작성하시오. 순환 호출을 이용하시오.**"
            ]
        },
        {
            "cell_type": "code",
            "execution_count": null,
            "metadata": {},
            "outputs": [],
            "source": []
        },
        {
            "cell_type": "markdown",
            "metadata": {},
            "source": [
                "**10. 다음과 같은 수식의 값을 계산하는 순환적인 프로그램을 작성하시오: 1/1+1/2+1/3+ ... +1/n. 순환 호출을 이용하시오.**"
            ]
        },
        {
            "cell_type": "code",
            "execution_count": null,
            "metadata": {},
            "outputs": [],
            "source": []
        },
        {
            "cell_type": "markdown",
            "metadata": {},
            "source": [
                "**11. 순환 호출을 이용하여 피보나치 수열을 계산하시오. 피보나치 수열은 다음과 같이 정의되는 수열입니다: n=0일 때 fib(n)=1, n=1일 때 fib(n)=1, 그 외의 경우 fib(n)=fib(n-2)+fib(n-1).**"
            ]
        },
        {
            "cell_type": "code",
            "execution_count": null,
            "metadata": {},
            "outputs": [],
            "source": []
        },
        {
            "cell_type": "markdown",
            "metadata": {},
            "source": [
                "**12. 우리는 8장에서 ATM을 구현해본 적이 있다. 여기서는 전역 변수를 사용하여서 소스를 변경하시오. 현재 계좌의 잔고는 전역 변수로 설정하시오. 메뉴를 표시하는 코드도 별도의 함수로 독립시키시오.**"
            ]
        },
        {
            "cell_type": "code",
            "execution_count": null,
            "metadata": {},
            "outputs": [],
            "source": []
        }
    ],
    "metadata": {
        "kernelspec": {
            "display_name": "C",
            "language": "c",
            "name": "c"
        },
        "language_info": {
            "name": "c"
        }
    },
    "nbformat": 4,
    "nbformat_minor": 5
}
