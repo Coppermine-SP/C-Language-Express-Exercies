{
 "cells": [
  {
   "attachments": {},
   "cell_type": "markdown",
   "metadata": {},
   "source": [
    "**01 사용자로부터 하나의 실수를 입력받아서 소수점 표기 방법과 지수 표기 방법으로\n",
    "동시에 출력하는 프로그램을 작성하라.**"
   ]
  },
  {
   "cell_type": "code",
   "execution_count": 1,
   "metadata": {},
   "outputs": [
    {
     "name": "stdout",
     "output_type": "stream",
     "text": [
      "실수를 입력하시오: 123.567\n",
      "실수 형식으로는 123.567000입니다.\n",
      "지수 형식으로는 1.235670e+02입니다."
     ]
    }
   ],
   "source": [
    "#include <stdio.h>\n",
    "\n",
    "//사용자가 입력한 실수를 실수와 지수형태로 출력하는 프로그램\n",
    "int main(void){\n",
    "    double d;\n",
    "    printf(\"실수를 입력하시오: \");\n",
    "    scanf(\"%lf\", &d);\n",
    "    printf(\"실수 형식으로는 %.6f입니다.\\n\", d);\n",
    "    printf(\"지수 형식으로는 %e입니다.\", d);\n",
    "    return 0;\n",
    "}"
   ]
  },
  {
   "attachments": {},
   "cell_type": "markdown",
   "metadata": {},
   "source": [
    "**02 사용자로부터 정수를 16진수로 입력받아서 8진수, 10진수, 16진수 형태로 출력하는 프로그램을 작성하시오.**"
   ]
  },
  {
   "cell_type": "code",
   "execution_count": 2,
   "metadata": {},
   "outputs": [
    {
     "name": "stdout",
     "output_type": "stream",
     "text": [
      "16진수 정수를 입력하시오:ff\n",
      "8진수로는 0377입니다.\n",
      "10진수로는 255입니다.\n",
      "16진수로는 0xff입니다."
     ]
    }
   ],
   "source": [
    "#include <stdio.h>\n",
    "\n",
    "//사용자가 입력한 16진수를 8, 10, 16진수 형태로 출력하는 프로그램\n",
    "int main(void){\n",
    "    int i;\n",
    "    printf(\"16진수 정수를 입력하시오:\");\n",
    "    scanf(\"%x\", &i);\n",
    "\n",
    "    printf(\"8진수로는 %04o입니다.\\n\", i);\n",
    "    printf(\"10진수로는 %d입니다.\\n\", i);\n",
    "    printf(\"16진수로는 0x%x입니다.\",i);\n",
    "    return 0;\n",
    "}"
   ]
  },
  {
   "attachments": {},
   "cell_type": "markdown",
   "metadata": {},
   "source": [
    "**03 int형의 변수 x와 y의 값을 서로 교환하는 프로그램을 작성하여보자. 별도의 변수가 필요하면 정의하여서 사용한다.\n",
    "변수 x와 y는 10, 20의 값으로 초기화하라.**"
   ]
  },
  {
   "cell_type": "code",
   "execution_count": 3,
   "metadata": {},
   "outputs": [
    {
     "name": "stdout",
     "output_type": "stream",
     "text": [
      "x=10, y=20\n",
      "x=20, y=10"
     ]
    }
   ],
   "source": [
    "#include <stdio.h>\n",
    "\n",
    "// x, y 두 변수를 서로 스왑하여 출력하는 프로그램\n",
    "int main(void){\n",
    "    int x = 10, y = 20, temp;\n",
    "\n",
    "    printf(\"x=%d, y=%d\\n\",x,y);\n",
    "\n",
    "    // 값 스왑\n",
    "    temp = x;\n",
    "    x = y;\n",
    "    y = temp;\n",
    "    printf(\"x=%d, y=%d\",x,y);\n",
    "    return 0;\n",
    "}"
   ]
  },
  {
   "attachments": {},
   "cell_type": "markdown",
   "metadata": {},
   "source": [
    "**04 상자의 부피를 구하는 프로그램을 작성하여보자.**"
   ]
  },
  {
   "cell_type": "code",
   "execution_count": 4,
   "metadata": {},
   "outputs": [
    {
     "name": "stdout",
     "output_type": "stream",
     "text": [
      "상자의 가로 세로 높이를 한번에 입력: 30 30 30\n",
      "상자의 부피는 27000.000000입니다."
     ]
    }
   ],
   "source": [
    "#include <stdio.h>\n",
    "\n",
    "// 사용자로부터 가로, 세로, 높이를 입력받아 부피를 출력하는 프로그램\n",
    "int main(void){\n",
    "    double x,y,z;\n",
    "    printf(\"상자의 가로 세로 높이를 한번에 입력: \");\n",
    "\n",
    "    // 형식 지정자로 동시에 여러 숫자 입력받기\n",
    "    scanf(\"%lf %lf %lf\", &x, &y, &z );\n",
    "    printf(\"상자의 부피는 %lf입니다.\", x*y*z);\n",
    "    return 0;\n",
    "}"
   ]
  },
  {
   "attachments": {},
   "cell_type": "markdown",
   "metadata": {},
   "source": [
    "**05 우리나라에서 가장 많이 사용되는 면적의 단위인 평을 제곱미터로 환산하는 프로그램을 작성하시오.**"
   ]
  },
  {
   "cell_type": "code",
   "execution_count": 5,
   "metadata": {},
   "outputs": [
    {
     "name": "stdout",
     "output_type": "stream",
     "text": [
      "평을 입력하세요: 31\n",
      "102.479800평방미터입니다."
     ]
    }
   ],
   "source": [
    "#include <stdio.h>\n",
    "#define REF 3.3058\n",
    "\n",
    "// 사용자로부터 평을 입력받아 평방미터로 출력하는 프로그램\n",
    "int main(void){\n",
    "    double d;\n",
    "    printf(\"평을 입력하세요: \");\n",
    "    scanf(\"%lf\", &d);\n",
    "    printf(\"%f평방미터입니다.\", d * REF);\n",
    "    return 0;\n",
    "}"
   ]
  },
  {
   "attachments": {},
   "cell_type": "markdown",
   "metadata": {},
   "source": [
    "**06 다음과 같은 수식의 값을 계산하여 화면에 출력하는 프로그램을 작성하시오.\n",
    "지수 표기법을 사용하여 변수들을 초기화한다.**"
   ]
  },
  {
   "cell_type": "code",
   "execution_count": 6,
   "metadata": {},
   "outputs": [
    {
     "name": "stdout",
     "output_type": "stream",
     "text": [
      "0.003320"
     ]
    }
   ],
   "source": [
    "#include <stdio.h>\n",
    "\n",
    "// 수식의 값을 계산하여 출력하는 프로그램\n",
    "int main(void){\n",
    "    printf(\"%f\", 3.32e-3 + 9.76e-8);\n",
    "    return 0;\n",
    "}"
   ]
  },
  {
   "attachments": {},
   "cell_type": "markdown",
   "metadata": {},
   "source": [
    "**07 물리학에서 운동에너지는 E=mv^2/2.0으로 계산된다. 사용자로부터 질량(m)과 속도(v)를 받아서\n",
    "운동에너지(E)를 계산하는 프로그램을 작성하여보자.**"
   ]
  },
  {
   "cell_type": "code",
   "execution_count": 7,
   "metadata": {},
   "outputs": [
    {
     "name": "stdout",
     "output_type": "stream",
     "text": [
      "질량(kg): 100\n",
      "속도(m/s): 200\n",
      "운동에너지(J): 2000000.000000"
     ]
    }
   ],
   "source": [
    "#include <stdio.h>\n",
    "\n",
    "// 사용자로부터 질량과 속도를 입력받아 운동에너지를 출력하는 프로그램.\n",
    "int main(void){\n",
    "    double mass, velocity;\n",
    "    printf(\"질량(kg): \");\n",
    "    scanf(\"%lf\", &mass);\n",
    "    printf(\"속도(m/s): \");\n",
    "    scanf(\"%lf\", &velocity);\n",
    "\n",
    "    printf(\"운동에너지(J): %f\", mass*velocity*velocity/2.0);\n",
    "    return 0;\n",
    "}"
   ]
  },
  {
   "attachments": {},
   "cell_type": "markdown",
   "metadata": {},
   "source": [
    "**08 사용자가 ASCII 코드 값을 입력하면 그 ASCII 코드 값에 해당하는 문자를 출력하는 프로그램을 작성하라.**"
   ]
  },
  {
   "cell_type": "code",
   "execution_count": 8,
   "metadata": {},
   "outputs": [
    {
     "name": "stdout",
     "output_type": "stream",
     "text": [
      "아스키 코드값을 입력하시오: 80\n",
      "문자:P입니다."
     ]
    }
   ],
   "source": [
    "#include <stdio.h>\n",
    "\n",
    "// 사용자로부터 ASCII 코드를 입력받아서, 해당하는 문자로 출력하는 프로그램.\n",
    "int main(void){\n",
    "    int i;\n",
    "    printf(\"아스키 코드값을 입력하시오: \");\n",
    "    scanf(\"%d\", &i);\n",
    "    \n",
    "    printf(\"문자:%c입니다.\", i);\n",
    "    return 0;\n",
    "}"
   ]
  },
  {
   "attachments": {},
   "cell_type": "markdown",
   "metadata": {},
   "source": [
    "**09 'a'+1, 'a'+2, 'a'+3을 문자 형식으로 출력하는 프로그램을 작성하시오.**"
   ]
  },
  {
   "cell_type": "code",
   "execution_count": 9,
   "metadata": {},
   "outputs": [
    {
     "name": "stdout",
     "output_type": "stream",
     "text": [
      "b c d "
     ]
    }
   ],
   "source": [
    "#include <stdio.h>\n",
    "\n",
    "int main(void){\n",
    "    // ASCII 코드는 알파벳 순서대로 배열되있다.\n",
    "    for(int i = 1; i <= 3;i++)printf(\"%c \", 'a'+i);\n",
    "    return 0;\n",
    "}"
   ]
  },
  {
   "attachments": {},
   "cell_type": "markdown",
   "metadata": {},
   "source": [
    "**10 경보음이 울린 후에 다음과 같은 메세지를 출력하고 다시 경보음이 울리는 프로그램을 작성하여보자.**"
   ]
  },
  {
   "cell_type": "code",
   "execution_count": 10,
   "metadata": {},
   "outputs": [
    {
     "name": "stdout",
     "output_type": "stream",
     "text": [
      "\u0007화재가 발생하였습니다.\u0007"
     ]
    }
   ],
   "source": [
    "#include <stdio.h>\n",
    "\n",
    "// 제어 문자를 이용하여 비프음을 출력하는 프로그램\n",
    "int main(void){\n",
    "    printf(\"\\a화재가 발생하였습니다.\\a\");\n",
    "    return 0;\n",
    "}"
   ]
  },
  {
   "attachments": {},
   "cell_type": "markdown",
   "metadata": {},
   "source": [
    "**11 다음과 같이 화면에 출력하는 프로그램을 작성하시오.**"
   ]
  },
  {
   "cell_type": "code",
   "execution_count": 11,
   "metadata": {},
   "outputs": [
    {
     "name": "stdout",
     "output_type": "stream",
     "text": [
      "\"ASCII code\", 'A', 'B', 'C'\n",
      "\\t \\a \\n"
     ]
    }
   ],
   "source": [
    "#include <stdio.h>\n",
    "\n",
    "int main(void){\n",
    "    // 이스케이프 시퀀스를 이용한 특수문자 출력\n",
    "    printf(\"\\\"ASCII code\\\", 'A', 'B', 'C'\\n\\\\t \\\\a \\\\n\");\n",
    "    return 0;\n",
    "}"
   ]
  },
  {
   "attachments": {},
   "cell_type": "markdown",
   "metadata": {},
   "source": [
    "**12 정수형 변수에 대하여 실습하여보자.**"
   ]
  },
  {
   "cell_type": "code",
   "execution_count": 12,
   "metadata": {},
   "outputs": [
    {
     "name": "stdout",
     "output_type": "stream",
     "text": [
      "255\n",
      "377\n",
      "ff\n",
      "ffffffff\n",
      "fffffffe\n",
      "fffffffd\n"
     ]
    }
   ],
   "source": [
    "#include <stdio.h>\n",
    "\n",
    "int main(void){\n",
    "    int i = 255;\n",
    "    printf(\"%d\\n\", i);\n",
    "\n",
    "    // 1. i의 값을 형식지정자를 통하여 8진수와 16진수로도 출력해보자.\n",
    "    printf(\"%o\\n%x\\n\", i,i);\n",
    "\n",
    "    // 2. i를 -1, -2, -3으로 초기화한 후에 16진수로 출력해보자.\n",
    "    i = -1;\n",
    "    printf(\"%x\\n\", i);\n",
    "    i = -2;\n",
    "    printf(\"%x\\n\", i);\n",
    "    i = -3;\n",
    "    printf(\"%x\\n\", i);\n",
    "    return 0;\n",
    "}"
   ]
  }
 ],
 "metadata": {
  "kernelspec": {
   "display_name": "C",
   "language": "c",
   "name": "c"
  },
  "language_info": {
   "file_extension": ".c",
   "mimetype": "text/x-csrc",
   "name": "c"
  },
  "orig_nbformat": 4
 },
 "nbformat": 4,
 "nbformat_minor": 2
}
