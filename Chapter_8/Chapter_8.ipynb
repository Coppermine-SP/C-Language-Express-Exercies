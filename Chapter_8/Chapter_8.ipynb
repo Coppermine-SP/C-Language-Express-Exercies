{
    "cells": [
        {
            "cell_type": "markdown",
            "metadata": {},
            "source": [
                "**2. 두 개의 정수 n, m을 입력받아서 n이 m의 배수이면 1을 반환하고 그렇지 않으면 0을 반환하는 함수 is_multiple(int n, int m)를 작성하고 테스트하여보자. 만약 n이 m의 배수이면 (n % m)이 0임을 이용하라.**"
            ]
        },
        {
            "cell_type": "code",
            "execution_count": 8,
            "metadata": {},
            "outputs": [
                {
                    "name": "stdout",
                    "output_type": "stream",
                    "text": [
                        "첫 번째 정수를 입력하시오: 30\n",
                        "두 번째 정수를 입력하시오: 5\n",
                        "30은 5의 배수입니다."
                    ]
                }
            ],
            "source": [
                "#include <stdio.h>\n",
                "\n",
                "// n이 m의 배수인지 확인하는 함수\n",
                "int is_multiple(int n, int m){\n",
                "    return (n % m) == 0;\n",
                "}\n",
                "\n",
                "int main(void){\n",
                "    int n, m;\n",
                "    printf(\"첫 번째 정수를 입력하시오: \");\n",
                "    scanf(\"%d\", &n);\n",
                "    printf(\"두 번째 정수를 입력하시오: \");\n",
                "    scanf(\"%d\", &m);\n",
                "    printf(\"%d은 %d의 배수%s.\",n,m,is_multiple(n,m) ? \"입니다\" : \"가 아닙니다\");\n",
                "    return 0;\n",
                "}"
            ]
        },
        {
            "cell_type": "markdown",
            "metadata": {},
            "source": [
                "**4. 전달된 문자가 알파벳 문자인지 아닌지를 검사하는 함수 check_alpha(char c)를 작성하고 이것을 호출하여서 사용자가 입력한 문자가 알파벳('a'에서 'z'까지)인지를 판단하여 출력하는 프로그램을 작성하라. 문자를 입력받을 때는 ch = getchar()를 사용해도 좋다. scanf(\" %c\", &ch);를 사용해도 된다.**"
            ]
        },
        {
            "cell_type": "code",
            "execution_count": 10,
            "metadata": {},
            "outputs": [
                {
                    "name": "stdout",
                    "output_type": "stream",
                    "text": [
                        "문자를 입력하시오: k\n",
                        "k는 알파벳 문자입니다."
                    ]
                }
            ],
            "source": [
                "#include <stdio.h>\n",
                "#include <stdbool.h>\n",
                "\n",
                "// 문자가 알파벳인지 아닌지 판단하는 함수\n",
                "bool check_alpha(char c){\n",
                "    // ASCII 코드표상 [a, z] 사이에 있는지 확인\n",
                "    return c >= 97 && c <= 122;\n",
                "}\n",
                "\n",
                "int main(void){\n",
                "    printf(\"문자를 입력하시오: \");\n",
                "    char c = getchar();\n",
                "\n",
                "    printf(\"%c는 알파벳 문자%s.\",c,check_alpha(c) ? \"입니다\" : \"가 아닙니다\");\n",
                "    return 0;\n",
                "}"
            ]
        },
        {
            "cell_type": "markdown",
            "metadata": {},
            "source": [
                "**6. 함수 is_leap(int year) 함수로 작성하고 이 함수를 사용하여서 사용자가 입력한 연도가 윤년인지를 출력하는 프로그램을 작성하라. 윤년은 4의 배수이지만 100의 배수는 제외하고 400의 배수는 무조건 추가하면 구할 수 있다.**"
            ]
        },
        {
            "cell_type": "code",
            "execution_count": 15,
            "metadata": {},
            "outputs": [
                {
                    "name": "stdout",
                    "output_type": "stream",
                    "text": [
                        "연도를 입력하시오: 2012\n",
                        "2012년은 윤년입니다."
                    ]
                }
            ],
            "source": [
                "#include <stdio.h>\n",
                "#include <stdbool.h>\n",
                "\n",
                "// 윤년인지 아닌지 판단하는 함수\n",
                "bool is_leap(int year){\n",
                "    return (year % 400 == 0) || ((year % 100 != 0) && (year % 4 == 0));\n",
                "}\n",
                "\n",
                "int main(void){\n",
                "    int year;\n",
                "    printf(\"연도를 입력하시오: \");\n",
                "    scanf(\"%d\", &year);\n",
                "    printf(\"%d년은 윤년%s.\", year, is_leap(year) ? \"입니다\" : \"이 아닙니다\");\n",
                "\n",
                "    return 0;\n",
                "}"
            ]
        },
        {
            "cell_type": "markdown",
            "metadata": {},
            "source": [
                "**8. 월급에 붙는 소득세를 계산하는 함수 get_tax(int income)를 작성하고 테스트하여보자. 소득 중 1000만 원까지는 8%를 적용하고 1000만 원이 넘는 소득은 10%를 과세한다.**"
            ]
        },
        {
            "cell_type": "code",
            "execution_count": 18,
            "metadata": {},
            "outputs": [
                {
                    "name": "stdout",
                    "output_type": "stream",
                    "text": [
                        "소득을 입력하시오(만원): 2500\n",
                        "소득세는 230만원입니다."
                    ]
                }
            ],
            "source": [
                "#include <stdio.h>\n",
                "\n",
                "// 세금을 구하는 함수\n",
                "int get_tax(int income){\n",
                "    if(income <= 1000) return income * 0.08;\n",
                "    else return (1000 * 0.08) + ((income - 1000) * 0.1);\n",
                "}\n",
                "\n",
                "int main(void){\n",
                "    int income;\n",
                "    printf(\"소득을 입력하시오(만원): \");\n",
                "    scanf(\"%d\", &income);\n",
                "\n",
                "    printf(\"소득세는 %d만원입니다.\", get_tax(income));\n",
                "    return 0;\n",
                "}"
            ]
        },
        {
            "cell_type": "markdown",
            "metadata": {},
            "source": [
                "**10. 난수(random number)는 컴퓨터를 이용한 문제 해결에서 많이 사용된다. 특히 수학적인 분석이 너무 복잡한 경우에 시뮬레이션을 사용하면 많은 가상적인 실험을 할 수 있다. 10에서 90까지의 정수를 무작위로 반환하는 함수 randint()를 작성하고 10번 호출하여 보자. 범위 [a, b]의 난수를 발생시키려면 a+rand()%(b-a+1)을 사용해보자.**"
            ]
        },
        {
            "cell_type": "code",
            "execution_count": 23,
            "metadata": {},
            "outputs": [
                {
                    "name": "stdout",
                    "output_type": "stream",
                    "text": [
                        "50 83 11 79 45 57 22 14 44 65 "
                    ]
                }
            ],
            "source": [
                "#include <stdio.h>\n",
                "#include <stdlib.h>\n",
                "#include <time.h>\n",
                "\n",
                "// 일정 구간의 난수를 생성하는 함수\n",
                "int randint(int begin, int end){\n",
                "    return begin + rand()%(end - begin+1);\n",
                "}\n",
                "\n",
                "int main(void){\n",
                "    // 랜덤 시드 지정\n",
                "    srand((unsigned int)time(NULL));\n",
                "    for(int i = 0; i < 10; i++) printf(\"%d \", randint(10, 90));\n",
                "    \n",
                "    return 0;\n",
                "}"
            ]
        },
        {
            "cell_type": "markdown",
            "metadata": {},
            "source": [
                "**12. 양의 십진수를 받아서 가장 상위 자리수를 반환하는 함수 get_first_digit(int n)를 작성하라. 예를 들어서 1099999이라면 1을 반환하여야 한다. 반복 루프 안에서 10으로 나누어서 몫이 0이 될 때까지 반복한다.**"
            ]
        },
        {
            "cell_type": "code",
            "execution_count": 4,
            "metadata": {},
            "outputs": [
                {
                    "name": "stdout",
                    "output_type": "stream",
                    "text": [
                        "정수를 입력하시오: 1099999\n",
                        "가장 상위 자리 수는 1입니다."
                    ]
                }
            ],
            "source": [
                "#include <stdio.h>\n",
                "\n",
                "// 정수의 가장 상위 자리수를 반환하는 함수\n",
                "int get_first_digit(int n){\n",
                "    while(n / 10 != 0) n /= 10;\n",
                "    return n % 10;\n",
                "}\n",
                "\n",
                "int main(void){\n",
                "    int i;\n",
                "    printf(\"정수를 입력하시오: \");\n",
                "    scanf(\"%d\", &i);\n",
                "\n",
                "    printf(\"가장 상위 자리 수는 %d입니다.\", get_first_digit(i));\n",
                "    return 0;\n",
                "}"
            ]
        },
        {
            "attachments": {},
            "cell_type": "markdown",
            "metadata": {},
            "source": [
                "**14. 어떤 정수가 소수 2개의 합으로 표시될 수 있는지를 검사하는 프로그램을 작성하시오. 이를 위해 is_prime() 함수를 사용하시오.**"
            ]
        },
        {
            "cell_type": "code",
            "execution_count": 10,
            "metadata": {},
            "outputs": [
                {
                    "name": "stdout",
                    "output_type": "stream",
                    "text": [
                        "양의 정수를 입력하시오: 33\n",
                        "33 = 2 + 31\n",
                        "33 = 31 + 2\n"
                    ]
                }
            ],
            "source": [
                "#include <stdio.h>\n",
                "#include <stdbool.h>\n",
                "\n",
                "// 수가 소수인지 판별하는 함수\n",
                "bool isPrime(int n){\n",
                "    if(n % 2 == 0 && n != 2) return false;\n",
                "    for(int i = 2; i < n; i++) if(n % i == 0) return false;\n",
                "    return true;\n",
                "}\n",
                "\n",
                "int main(void){\n",
                "    // 만약 수가 매우 커서 소수가 배열의 크기 보다 많다면, 예외가 발생 할 수 있습니다.\n",
                "    // C++ std::vector와 같은 동적 크기 배열을 사용하십시오.\n",
                "    int prime_list[100];\n",
                "    int n;\n",
                "\n",
                "    printf(\"양의 정수를 입력하시오: \");\n",
                "    scanf(\"%d\", &n);\n",
                "\n",
                "    // 어떤 수까지의 모든 소수 구하기\n",
                "    int idx = 0;\n",
                "    for(int i = 2; i < n; i++){\n",
                "        if(isPrime(i)){\n",
                "            prime_list[idx] = i;\n",
                "            idx++;\n",
                "        }\n",
                "    }\n",
                "\n",
                "    // 수가 어떤 소수의 합으로 이루어졌는지 구하기\n",
                "    for(int i = 0; i < idx; i++){\n",
                "        for(int j = 0; j < idx; j++){\n",
                "            if(prime_list[i] + prime_list[j] == n){\n",
                "                printf(\"%d = %d + %d\\n\", n, prime_list[i], prime_list[j]);\n",
                "            }\n",
                "        }\n",
                "    }\n",
                "\n",
                "    return 0;\n",
                "}"
            ]
        },
        {
            "cell_type": "markdown",
            "metadata": {},
            "source": [
                "**16. 은행의 ATM 장치를 프로그램으로 구현하시오. 가능하다면 소스의 많은 부분을 함수로 구현하시오.**"
            ]
        },
        {
            "cell_type": "code",
            "execution_count": 1,
            "metadata": {},
            "outputs": [
                {
                    "name": "stdout",
                    "output_type": "stream",
                    "text": [
                        "******* Welcome to Express ATM *******\n",
                        "\n",
                        "<1> 잔액\n",
                        "<2> 입금\n",
                        "<3> 출금\n",
                        "<4> 종료\n",
                        "\n",
                        "메뉴를 선택하시오: 2\n",
                        "입금 금액을 입력하시오: 5000\n",
                        "잔고는 5000원입니다.\n",
                        "\n",
                        "메뉴를 선택하시오: 3\n",
                        "출금 금액을 입력하시오: 6000\n",
                        "잔액이 부족합니다.\n",
                        "잔고는 5000원입니다.\n",
                        "\n",
                        "메뉴를 선택하시오: 3\n",
                        "출금 금액을 입력하시오: 5000\n",
                        "잔고는 0원입니다.\n",
                        "\n",
                        "메뉴를 선택하시오: 4\n",
                        "감사합니다."
                    ]
                }
            ],
            "source": [
                "#include <stdio.h>\n",
                "#include <stdbool.h>\n",
                "\n",
                "// 잔액 확인\n",
                "void checkBalance(unsigned int* account){\n",
                "    printf(\"잔고는 %d원입니다.\\n\", *account);\n",
                "}\n",
                "\n",
                "// 사용자 입력을 검증하는 함수\n",
                "bool checkAmount(int i){\n",
                "    if(i < 0){\n",
                "        printf(\"금액은 0원보다 커야합니다.\\n\");\n",
                "        return true;\n",
                "    }\n",
                "    return false;\n",
                "}\n",
                "\n",
                "// 입금\n",
                "void deposit(unsigned int* account){\n",
                "    int amount;\n",
                "    printf(\"입금 금액을 입력하시오: \");\n",
                "    scanf(\"%d\", &amount);\n",
                "    if(checkAmount(amount)) return;\n",
                "\n",
                "    *account += amount;\n",
                "}\n",
                "\n",
                "// 출금\n",
                "void withdraw(unsigned int* account){\n",
                "    int amount;\n",
                "    printf(\"출금 금액을 입력하시오: \");\n",
                "    scanf(\"%d\", &amount);\n",
                "\n",
                "    if(checkAmount(amount)) return;\n",
                "    if(*account < amount){\n",
                "        printf(\"잔액이 부족합니다.\\n\");\n",
                "        return;\n",
                "    }\n",
                "    *account -= amount;\n",
                "}\n",
                "\n",
                "int main(void){\n",
                "    unsigned int account = 0;\n",
                "    printf(\"******* Welcome to Express ATM *******\\n\\n\");\n",
                "    printf(\"<1> 잔액\\n\");\n",
                "    printf(\"<2> 입금\\n\");\n",
                "    printf(\"<3> 출금\\n\");\n",
                "    printf(\"<4> 종료\\n\");\n",
                "\n",
                "    while(1){\n",
                "        int menu;\n",
                "        printf(\"\\n메뉴를 선택하시오: \");\n",
                "        scanf(\"%d\", &menu);\n",
                "\n",
                "        if(menu == 1){\n",
                "            checkBalance(&account);\n",
                "        }\n",
                "        else if(menu == 2){\n",
                "            deposit(&account);\n",
                "            checkBalance(&account);\n",
                "        }\n",
                "        else if(menu == 3){\n",
                "            withdraw(&account);\n",
                "            checkBalance(&account);\n",
                "        }\n",
                "        else if(menu == 4){\n",
                "            printf(\"감사합니다.\");\n",
                "            break;\n",
                "        }\n",
                "        else{\n",
                "            printf(\"올바르지 않은 메뉴.\\n\");\n",
                "        }\n",
                "    }\n",
                "    return 0;\n",
                "}"
            ]
        }
    ],
    "metadata": {
        "kernelspec": {
            "display_name": "C",
            "language": "c",
            "name": "c"
        },
        "language_info": {
            "file_extension": ".c",
            "mimetype": "text/x-csrc",
            "name": "c"
        }
    },
    "nbformat": 4,
    "nbformat_minor": 5
}
