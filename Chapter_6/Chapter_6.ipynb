{
 "cells": [
  {
   "attachments": {},
   "cell_type": "markdown",
   "metadata": {},
   "source": [
    "**01 사용자로부터 2개의 정수를 받아서 첫 번째 정수가 두 번째 정수로 나누어 떨어지는 지를 검사하는 프로그램을 작성하라.**"
   ]
  },
  {
   "cell_type": "code",
   "execution_count": 6,
   "metadata": {},
   "outputs": [
    {
     "name": "stdout",
     "output_type": "stream",
     "text": [
      "정수를 입력하시오: 32\n",
      "정수를 입력하시오: 8\n",
      "약수입니다."
     ]
    }
   ],
   "source": [
    "#include <stdio.h>\n",
    "\n",
    "// 사용자로부터 두 정수를 받아서 첫번째 정수가 두번째 정수로 \n",
    "// 나누어 떨어지는지 확인하는 프로그램\n",
    "int main(void){\n",
    "    int arr[2];\n",
    "    for(int i = 0; i < 2; i++){\n",
    "        printf(\"정수를 입력하시오: \");\n",
    "        scanf(\"%d\", &arr[i]);\n",
    "    }\n",
    "    // 약수인지 아닌지 판별하는 삼항식\n",
    "    printf(arr[0] % arr[1] == 0 ? \"약수입니다.\" : \"아닙니다.\");\n",
    "    return 0;\n",
    "}"
   ]
  },
  {
   "attachments": {},
   "cell_type": "markdown",
   "metadata": {},
   "source": [
    "**02 사용자로부터 3개의 정수를 읽어 들인 후에 if-else 문을 사용하여 가장 작은 값을 결정하는 프로그램을 작성하라.**"
   ]
  },
  {
   "cell_type": "code",
   "execution_count": 3,
   "metadata": {},
   "outputs": [
    {
     "name": "stdout",
     "output_type": "stream",
     "text": [
      "정수 3개를 입력하시오: 30 20 10\n",
      "가장 작은 수는 10입니다."
     ]
    }
   ],
   "source": [
    "#include <stdio.h>\n",
    "\n",
    "// 사용자로부터 3개의 정수를 입력받아 가장 작은 값을 찾는 프로그램\n",
    "int main(void){\n",
    "    int arr[3];\n",
    "    int min;\n",
    "\n",
    "    printf(\"정수 3개를 입력하시오: \");\n",
    "    scanf(\"%d %d %d\", &arr[0], &arr[1], &arr[2]);\n",
    "\n",
    "    if(arr[0] <= arr[1] && arr[1] <= arr[2]){\n",
    "        min = arr[0];\n",
    "    }\n",
    "    else if(arr[1] <= arr[0] && arr[1] <= arr[2]){\n",
    "        min = arr[1];\n",
    "    }\n",
    "    else if(arr[2] <= arr[0] && arr[2] <= arr[1]){\n",
    "        min = arr[2];\n",
    "    }\n",
    "    printf(\"가장 작은 수는 %d입니다.\", min);\n",
    "    return 0;\n",
    "}"
   ]
  },
  {
   "attachments": {},
   "cell_type": "markdown",
   "metadata": {},
   "source": [
    "**03 컴퓨터와 가위, 바위, 보 게임을 하는 프로그램을 작성하라.**"
   ]
  },
  {
   "cell_type": "code",
   "execution_count": 17,
   "metadata": {},
   "outputs": [
    {
     "name": "stdout",
     "output_type": "stream",
     "text": [
      "(1:가위 2:바위 3:보) 중에서 하나를 선택하시오: 3\n",
      "컴퓨터는 바위를 선택하였습니다.\n",
      "\n",
      "사용자가 이겼습니다."
     ]
    }
   ],
   "source": [
    "#include <stdio.h>\n",
    "#include <stdlib.h>\n",
    "#include <stdbool.h>\n",
    "#include <time.h>\n",
    "\n",
    "// 컴퓨터와 가위 바위 보를 하는 프로그램.\n",
    "\n",
    "int main(void){\n",
    "    const char* choice_str[] = {\"가위\", \"바위\", \"보\"};\n",
    "    // rand의 seed값으로 현재 유닉스 시간을 사용함으로, 의사 난수의 랜덤성을 부여한다.\n",
    "    srand(time(NULL));\n",
    "    int user_choice, computer_choice = (rand()%3+1);\n",
    "    bool isUserWin = false;\n",
    "\n",
    "    printf(\"(1:가위 2:바위 3:보) 중에서 하나를 선택하시오: \");\n",
    "    scanf(\"%d\", &user_choice);\n",
    "    printf(\"컴퓨터는 %s를 선택하였습니다.\\n\\n\", choice_str[computer_choice - 1]);\n",
    "\n",
    "    if(user_choice == computer_choice){\n",
    "        printf(\"비겼습니다.\");\n",
    "        return 0;\n",
    "    }\n",
    "    else{\n",
    "        // 사용자 승리 조건\n",
    "        if(user_choice == 1 && computer_choice != 2) isUserWin = true;\n",
    "        else if(user_choice == 2 && computer_choice != 3) isUserWin = true;\n",
    "        else if(user_choice == 3 && computer_choice != 1) isUserWin = true;\n",
    "    }\n",
    "    printf(\"%s가 이겼습니다.\", isUserWin ? \"사용자\" : \"컴퓨터\");\n",
    "    return 0;\n",
    "}"
   ]
  },
  {
   "attachments": {},
   "cell_type": "markdown",
   "metadata": {},
   "source": [
    "**04 놀이 공원에서 롤러코스터에 타려면 키가 140cm 이상이고 나이가 10살 이상이여야 한다고 가정하자. 사용자에게 키와 나이를 질문 한 후에 \"타도 좋습니다\" 또는 \"죄송합니다\"를 출력하는 프로그램을 작성하여보자.**"
   ]
  },
  {
   "cell_type": "code",
   "execution_count": 51,
   "metadata": {},
   "outputs": [
    {
     "name": "stdout",
     "output_type": "stream",
     "text": [
      "키를 입력하시오(cm): 145\n",
      "나이를 입력하시오: 11\n",
      "\n",
      "타도 좋습니다."
     ]
    }
   ],
   "source": [
    "#include <stdio.h>\n",
    "\n",
    "// 사용자에게 키와 나이를 입력받아 놀이기구 탑승 가능 여부를 출력하는 프로그램\n",
    "int main(void){\n",
    "    int height, age;\n",
    "    printf(\"키를 입력하시오(cm): \");\n",
    "    scanf(\"%d\", &height);\n",
    "    printf(\"나이를 입력하시오: \");\n",
    "    scanf(\"%d\", &age);\n",
    "\n",
    "    if(height >= 140 && age >= 10) printf(\"\\n타도 좋습니다.\");\n",
    "    else printf(\"\\n죄송합니다.\");\n",
    "    return 0;\n",
    "}"
   ]
  },
  {
   "attachments": {},
   "cell_type": "markdown",
   "metadata": {},
   "source": [
    "**05 사용자로부터 몆 월인지를 정수로 입력받아서 Jan와 같은 영어단어로 출력하는 프로그램을 작성하라.**"
   ]
  },
  {
   "cell_type": "code",
   "execution_count": 6,
   "metadata": {},
   "outputs": [
    {
     "name": "stdout",
     "output_type": "stream",
     "text": [
      "월 번호를 입력하시오: 10\n",
      "Oct"
     ]
    }
   ],
   "source": [
    "#include <stdio.h>\n",
    "\n",
    "// 사용자에게 몆 월인지를 정수로 입력받아 영어 단어로 출력하는 프로그램\n",
    "int main(void){\n",
    "    const char* month_array[12] = {\"Jan\", \"Feb\", \"Mar\", \"Apr\",\n",
    "     \"May\", \"Jun\", \"Jul\", \"Aug\", \"Sep\", \"Oct\", \"Nov\", \"Dec\"};\n",
    "     \n",
    "    int i;\n",
    "    printf(\"월 번호를 입력하시오: \");\n",
    "    scanf(\"%d\", &i);\n",
    "\n",
    "    // 입력 값 검증\n",
    "    if(i <= 0 || i > 12){\n",
    "        printf(\"올바르지 않은 월\");\n",
    "        return 0;\n",
    "    }\n",
    "\n",
    "    printf(\"%s\", month_array[i - 1]);\n",
    "    return 0;\n",
    "}"
   ]
  },
  {
   "attachments": {},
   "cell_type": "markdown",
   "metadata": {},
   "source": [
    "**06 키보드에서 하나의 문자를 읽어서 모음과 자음을 구분하는 프로그램을 만들어보자.**"
   ]
  },
  {
   "cell_type": "code",
   "execution_count": 11,
   "metadata": {},
   "outputs": [
    {
     "name": "stdout",
     "output_type": "stream",
     "text": [
      "문자를 입력하시오: o\n",
      "모음입니다."
     ]
    }
   ],
   "source": [
    "#include <stdio.h>\n",
    "\n",
    "// 사용자에게 문자를 입력받아 모음과 자음을 구분하는 프로그램\n",
    "// switch문을 사용하라는 constraint를 보지 못하였습니다.\n",
    "int main(void){\n",
    "    const char array[] = {'a', 'e', 'i','o','u'};\n",
    "    printf(\"문자를 입력하시오: \");\n",
    "    char c = getchar();\n",
    "\n",
    "    for(int i = 0; i < sizeof(array) / sizeof(array[0]); i++){\n",
    "        // 모음이 포함된 array의 각 요소와 일치하는지 확인한다.\n",
    "        // 소문자 ASCII에 -32를 해주면 대문자로 변하는 것을 이용하여\n",
    "        // case-insensitive하게 한다.\n",
    "        if(c == array[i] || c == array[i] - 32){\n",
    "            printf(\"모음입니다.\");\n",
    "            return 0;\n",
    "        }\n",
    "    }\n",
    "\n",
    "    printf(\"자음입니다.\");\n",
    "    return 0;\n",
    "}"
   ]
  },
  {
   "cell_type": "code",
   "execution_count": 21,
   "metadata": {},
   "outputs": [
    {
     "name": "stdout",
     "output_type": "stream",
     "text": [
      "문자를 입력하시오: o\n",
      "모음입니다."
     ]
    }
   ],
   "source": [
    "#include <stdio.h>\n",
    "#include <stdbool.h>\n",
    "\n",
    "// 사용자에게 문자를 입력받아 모음과 자음을 구분하는 프로그램\n",
    "// switch문을 사용한 풀이\n",
    "int main(void){\n",
    "    printf(\"문자를 입력하시오: \");\n",
    "    char c = getchar();\n",
    "    bool isVowel = false;\n",
    "\n",
    "    switch(c){\n",
    "        case 'a':\n",
    "        case 'e':\n",
    "        case 'i':\n",
    "        case 'o':\n",
    "        case 'u':\n",
    "        isVowel = true;\n",
    "        break;\n",
    "    }\n",
    "\n",
    "    printf(\"%s입니다.\", isVowel ? \"모음\" : \"자음\");\n",
    "    return 0;\n",
    "}"
   ]
  },
  {
   "attachments": {},
   "cell_type": "markdown",
   "metadata": {},
   "source": [
    "**07 사용자로부터 키를 입력받아서 표준 체중을 계산한 후에 사용자의 체중과 비교하여 저체중인지 과체중인지 판단하는 프로그램을 작성하라.**"
   ]
  },
  {
   "cell_type": "code",
   "execution_count": 7,
   "metadata": {},
   "outputs": [
    {
     "name": "stdout",
     "output_type": "stream",
     "text": [
      "체중과 키를 입력하시오: 80 180\n",
      "과체중입니다."
     ]
    }
   ],
   "source": [
    "#include <stdio.h>\n",
    "\n",
    "// 사용자에게 키를 입력받아 표준 체중인지 아닌지 판단하는 프로그램\n",
    "int main(void){\n",
    "    int weight, height, std_weight;\n",
    "    printf(\"체중과 키를 입력하시오: \");\n",
    "    scanf(\"%d %d\", &weight, &height);\n",
    "    std_weight = (height - 100) * 0.9;\n",
    "\n",
    "    printf(\"%s체중입니다.\", weight == std_weight \n",
    "    ? \"표준\" : weight > std_weight ? \"과\" : \"저\");\n",
    "    return 0;\n",
    "}"
   ]
  },
  {
   "attachments": {},
   "cell_type": "markdown",
   "metadata": {},
   "source": [
    "**08 놀이 공원의 자유이용권의 가격을 계산하는 프로그램을 작성하여보자.**"
   ]
  },
  {
   "cell_type": "code",
   "execution_count": 4,
   "metadata": {},
   "outputs": [
    {
     "name": "stdout",
     "output_type": "stream",
     "text": [
      "현재 시간과 나이를 입력하시오(시간 나이): 18 33\n",
      "요금은 10000원 입니다."
     ]
    }
   ],
   "source": [
    "#include <stdio.h>\n",
    "\n",
    "// 시간과 나이를 입력받아서 놀이공원 입장권의 가격을 결정하는 프로그램\n",
    "int main(void){\n",
    "    int time, age, price;\n",
    "    printf(\"현재 시간과 나이를 입력하시오(시간 나이): \");\n",
    "    scanf(\"%d %d\", &time, &age);\n",
    "\n",
    "    if(time >= 17) price = 10000;\n",
    "    else {\n",
    "        if(age >= 64 || (age >=  3 && age <= 12)) price = 25000;\n",
    "        else price = 34000;\n",
    "    }\n",
    "    printf(\"요금은 %d원 입니다.\", price);\n",
    "    return 0;\n",
    "}"
   ]
  },
  {
   "attachments": {},
   "cell_type": "markdown",
   "metadata": {},
   "source": [
    "**09 다음과 같이 정의되는 함수의 함수값을 계산하여보자. 사용자로부터 x값을 입력받아서 함수값을 계산하여 화면에 출력한다.**"
   ]
  },
  {
   "cell_type": "code",
   "execution_count": 9,
   "metadata": {},
   "outputs": [
    {
     "name": "stdout",
     "output_type": "stream",
     "text": [
      "x의 값을 입력하시오: 3.0\n",
      "f(x)의 값은 23.00 입니다."
     ]
    }
   ],
   "source": [
    "#include <stdio.h>\n",
    "\n",
    "// 사용자에게 입력받은 x값으로 piecewise-defined function의 값을 구하는 프로그램\n",
    "int main(void){\n",
    "    float x, result;\n",
    "    printf(\"x의 값을 입력하시오: \");\n",
    "    scanf(\"%f\", &x);\n",
    "\n",
    "    if(x<=0){\n",
    "        result = (float)(x*x)-9*x+2;\n",
    "    }\n",
    "    else{\n",
    "        result = (float)7*x+2;\n",
    "    }\n",
    "\n",
    "    printf(\"f(x)의 값은 %.2f 입니다.\", result);\n",
    "    return 0;\n",
    "}"
   ]
  },
  {
   "attachments": {},
   "cell_type": "markdown",
   "metadata": {},
   "source": [
    "**10 (x,y) 좌표를 입력받아서 좌표가 속하는 사분면을 화면에 출력하는 프로그램을 작성하시오.**"
   ]
  },
  {
   "cell_type": "code",
   "execution_count": 13,
   "metadata": {},
   "outputs": [
    {
     "name": "stdout",
     "output_type": "stream",
     "text": [
      "x, y 좌표를 입력하시오: 10 20\n",
      "1사분면입니다."
     ]
    }
   ],
   "source": [
    "#include <stdio.h>\n",
    "\n",
    "// 사용자에게 좌표를 입력받아서 좌표의 사분면을 구하는 프로그램\n",
    "int main(void){\n",
    "    int x, y, quadrant;\n",
    "\n",
    "    printf(\"x, y 좌표를 입력하시오: \");\n",
    "    scanf(\"%d %d\", &x, &y);\n",
    "    \n",
    "    if(x == 0 && y == 0){\n",
    "        printf(\"원점입니다.\");\n",
    "        return 0;\n",
    "    }\n",
    "\n",
    "    if(x > 0 && y > 0) quadrant = 1;\n",
    "    else if(x < 0 && y > 0 ) quadrant = 2;\n",
    "    else if(x < 0 && y < 0 ) quadrant = 3;\n",
    "    else quadrant = 4;\n",
    "\n",
    "    printf(\"%d사분면입니다.\", quadrant);\n",
    "    return 0;\n",
    "}"
   ]
  },
  {
   "attachments": {},
   "cell_type": "markdown",
   "metadata": {},
   "source": [
    "**11 사용자로부터 하나의 문자를 입력받아서 문자가 'R'이나 'r'이면 \"Rectangle\"이라고 출력한다 'T'이거나 't'이면 \"Triangle\" 'C'이거나 'c'이면 \"Circle\"이라고 출력하는 프로그램을 작성한다.**"
   ]
  },
  {
   "cell_type": "code",
   "execution_count": 4,
   "metadata": {},
   "outputs": [
    {
     "name": "stdout",
     "output_type": "stream",
     "text": [
      "문자를 입력하시오: C\n",
      "Circle"
     ]
    }
   ],
   "source": [
    "#include <stdio.h>\n",
    "\n",
    "// 사용자가 입력한 문자에 따라 특정 문자열을 출력하는 프로그램\n",
    "int main(void){\n",
    "    const char* dict[] = {\"Rectangle\", \"Triangle\", \"Circle\"};\n",
    "    char c; \n",
    "    printf(\"문자를 입력하시오: \");\n",
    "    c = getchar();\n",
    "\n",
    "    // 모음이 포함된 array의 각 요소와 일치하는지 확인한다.\n",
    "    // 소문자 ASCII에 -32를 해주면 대문자로 변하는 것을 \n",
    "    // 이용하여 case-insensitive하게 한다.\n",
    "    for(int i = 0; i < sizeof(dict) / sizeof(dict[0]); i++){\n",
    "        if(dict[i][0] == c || dict[i][0] == c - 32){\n",
    "            printf(\"%s\", dict[i]);\n",
    "            return 0;\n",
    "        }\n",
    "    }\n",
    "\n",
    "    printf(\"Unknown\");\n",
    "    return 0;\n",
    "}"
   ]
  },
  {
   "attachments": {},
   "cell_type": "markdown",
   "metadata": {},
   "source": [
    "**12 2자리 숫자로 이루어진 복권이 있다. 사용자가 가지고 있는 복권 번호가 2자리 모두 일치하면 100만원을 받는다. 2자리 중에서 하나만 일치하면 50만원을 받는다. 하나도 일치하지 않으면 상금은 없다. 복권 당첨 번호는 난수로 생성하고 사용자의 입력에 따라서 상금이 얼마인지를 출력하는 프로그램을 작성하라.**"
   ]
  },
  {
   "cell_type": "code",
   "execution_count": 5,
   "metadata": {},
   "outputs": [
    {
     "name": "stdout",
     "output_type": "stream",
     "text": [
      "복권 번호를 입력하시오(0에서 99사이): 87\n",
      "당첨 번호는 69입니다.\n",
      "상금은 없습니다."
     ]
    }
   ],
   "source": [
    "#include <stdio.h>\n",
    "#include <stdlib.h>\n",
    "#include <stdbool.h>\n",
    "#include <time.h>\n",
    "\n",
    "// 2자리의 랜덤 복권번호를 생성하고 사용자가 입력한 값과 비교하여 상금을 제공하는 프로그램\n",
    "int main(void){\n",
    "\n",
    "    // rand의 seed값으로 현재 유닉스 시간을 사용함으로, 의사 난수의 랜덤성을 부여한다.\n",
    "    srand(time(NULL));\n",
    "    int user_input, solution = (rand()%99);\n",
    "    printf(\"복권 번호를 입력하시오(0에서 99사이): \");\n",
    "    scanf(\"%d\", &user_input);\n",
    "\n",
    "    printf(\"당첨 번호는 %d입니다.\\n\", solution);\n",
    "    bool first = (solution / 10) == (user_input / 10);\n",
    "    bool second = (solution % 10) == (user_input % 10);\n",
    "\n",
    "    if(first && second) printf(\"상금은 100만원입니다.\");\n",
    "    else if(!first && !second) printf(\"상금은 없습니다.\");\n",
    "    else printf(\"상금은 50만원입니다.\");\n",
    "\n",
    "    return 0;\n",
    "}"
   ]
  }
 ],
 "metadata": {
  "kernelspec": {
   "display_name": "C",
   "language": "c",
   "name": "c"
  },
  "language_info": {
   "file_extension": ".c",
   "mimetype": "text/x-csrc",
   "name": "c"
  },
  "orig_nbformat": 4
 },
 "nbformat": 4,
 "nbformat_minor": 2
}
