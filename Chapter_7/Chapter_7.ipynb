{
 "cells": [
  {
   "attachments": {},
   "cell_type": "markdown",
   "metadata": {},
   "source": [
    "**02 1부터 100 사이의 모든 3의 배수의 합을 계산하여 출력하는 프로그램을 반복 구조를 통해 작성하라.**"
   ]
  },
  {
   "cell_type": "code",
   "execution_count": 1,
   "metadata": {},
   "outputs": [
    {
     "name": "stdout",
     "output_type": "stream",
     "text": [
      "1부터 100 사이의 모든 3의 배수의 합은 1683입니다."
     ]
    }
   ],
   "source": [
    "#include <stdio.h>\n",
    "\n",
    "// [1, 100]구간의 모든 3의 배수의 합을 더하는 프로그램\n",
    "int main(void){\n",
    "    int result = 0;\n",
    "    for(int i = 0; i < 100; i+=3) result += i;\n",
    "\n",
    "    printf(\"1부터 100 사이의 모든 3의 배수의 합은 %d입니다.\", result);\n",
    "    return 0;\n",
    "}"
   ]
  },
  {
   "attachments": {},
   "cell_type": "markdown",
   "metadata": {},
   "source": [
    "**04 사용자가 입력한 정수의 모든 약수를 화면에 출력하는 프로그램을 작성하라.**"
   ]
  },
  {
   "cell_type": "code",
   "execution_count": 3,
   "metadata": {},
   "outputs": [
    {
     "name": "stdout",
     "output_type": "stream",
     "text": [
      "정수를 입력하시오: 60\n",
      "약수: 1 2 3 4 5 6 10 12 15 20 30 60 "
     ]
    }
   ],
   "source": [
    "#include <stdio.h>\n",
    "\n",
    "// 정수를 입력하면 그 정수의 모든 약수를 출력하는 프로그램.\n",
    "int main(void){\n",
    "    int end;\n",
    "    printf(\"정수를 입력하시오: \");\n",
    "    scanf(\"%d\", &end);\n",
    "\n",
    "    printf(\"약수: \");\n",
    "    for(int i = 1; i <= end; i++){\n",
    "        if(end % i == 0) printf(\"%d \", i);\n",
    "    }\n",
    "    return 0;\n",
    "}"
   ]
  },
  {
   "attachments": {},
   "cell_type": "markdown",
   "metadata": {},
   "source": [
    "**06 1<sup>2</sup> + 2<sup>2</sup> + 3<sup>2</sup> + ... + n<sup>2</sup>의 값을 계산하여 출력하여보자.**"
   ]
  },
  {
   "cell_type": "code",
   "execution_count": 4,
   "metadata": {},
   "outputs": [
    {
     "name": "stdout",
     "output_type": "stream",
     "text": [
      "n의 값을 입력하시오: 10\n",
      "계산값은 385입니다."
     ]
    }
   ],
   "source": [
    "#include <stdio.h>\n",
    "\n",
    "// 1부터 n까지의 제곱을 더해서 출력하는 프로그램\n",
    "int main(void){\n",
    "    int n, result=0;\n",
    "    printf(\"n의 값을 입력하시오: \");\n",
    "    scanf(\"%d\", &n);\n",
    "\n",
    "    for(int i = 1; i <= n; i++) result += i * i;\n",
    "    printf(\"계산값은 %d입니다.\", result);\n",
    "    return 0;\n",
    "}"
   ]
  },
  {
   "attachments": {},
   "cell_type": "markdown",
   "metadata": {},
   "source": [
    "**08 중첩 반복문을 사용하여서 다음과 같이 출력하는 프로그램을 작성하여보자.**"
   ]
  },
  {
   "cell_type": "code",
   "execution_count": 6,
   "metadata": {},
   "outputs": [
    {
     "name": "stdout",
     "output_type": "stream",
     "text": [
      "정수를 입력하시오: 5\n",
      "1 \n",
      "1 2 \n",
      "1 2 3 \n",
      "1 2 3 4 \n",
      "1 2 3 4 5 \n"
     ]
    }
   ],
   "source": [
    "#include <stdio.h>\n",
    "\n",
    "// 중첩 for문을 사용해서 정수 피라미드를 만드는 프로그램\n",
    "int main(void){\n",
    "    int n;\n",
    "    printf(\"정수를 입력하시오: \");\n",
    "    scanf(\"%d\", &n);\n",
    "\n",
    "    for(int i = 1; i <= n; i++){\n",
    "        for(int j = 1; j <= i; j++)\n",
    "            printf(\"%d \", j);\n",
    "        printf(\"\\n\");\n",
    "    }\n",
    "    return 0;\n",
    "}"
   ]
  },
  {
   "attachments": {},
   "cell_type": "markdown",
   "metadata": {},
   "source": [
    "**10 2와 100 사이에 있는 모든 소수(prime number)를 찾는 프로그램을 작성하라. 정수가 소수가 되려면 1과 자기 자신만을 약수로 가져야 한다.**"
   ]
  },
  {
   "cell_type": "code",
   "execution_count": 9,
   "metadata": {},
   "outputs": [
    {
     "name": "stdout",
     "output_type": "stream",
     "text": [
      "2 3 5 7 11 13 17 19 23 29 31 37 41 43 47 53 59 61 67 71 73 79 83 89 97 "
     ]
    }
   ],
   "source": [
    "#include <stdio.h>\n",
    "#include <stdbool.h>\n",
    "\n",
    "// [2, 100] 구간에 있는 모든 소수를 찾는 프로그램\n",
    "int main(void){\n",
    "    for(int i = 2; i <= 100; i++){\n",
    "        bool isPrime = true;\n",
    "        for(int j = 2; j <= i; j++){\n",
    "            if(i % j == 0 && i != j) {\n",
    "                isPrime = false;\n",
    "                break;\n",
    "            }\n",
    "        }\n",
    "        if(isPrime) printf(\"%d \", i);\n",
    "    }\n",
    "    return 0;\n",
    "}"
   ]
  },
  {
   "attachments": {},
   "cell_type": "markdown",
   "metadata": {},
   "source": [
    "**12 컴퓨터는 막대 그래프를 그리는 데도 사용된다. 사용자로부터 1부터 50 사이의 숫자를 입력받아서 숫자만큼의 별표를 출력하는 프로그램을 작성하라.**"
   ]
  },
  {
   "cell_type": "code",
   "execution_count": 12,
   "metadata": {},
   "outputs": [
    {
     "name": "stdout",
     "output_type": "stream",
     "text": [
      "막대의 높이(종료: -1): 10\n",
      "**********\n",
      "막대의 높이(종료: -1): 20\n",
      "********************\n",
      "막대의 높이(종료: -1): -1\n"
     ]
    }
   ],
   "source": [
    "#include <stdio.h>\n",
    "\n",
    "// 사용자가 입력한 크기의 막대를 그리는 프로그램\n",
    "int main(void){\n",
    "    int size;\n",
    "    while(1){\n",
    "        printf(\"막대의 높이(종료: -1): \");\n",
    "        scanf(\"%d\", &size);\n",
    "        if(size < 0) return 0;\n",
    "        for(int i = 0; i < size; i++) printf(\"*\");\n",
    "        printf(\"\\n\");\n",
    "    }\n",
    "}"
   ]
  },
  {
   "attachments": {},
   "cell_type": "markdown",
   "metadata": {},
   "source": [
    "**14 피보나치 수열을 생성하는 프로그램을 작성하여보자.**"
   ]
  },
  {
   "cell_type": "code",
   "execution_count": 16,
   "metadata": {},
   "outputs": [
    {
     "name": "stdout",
     "output_type": "stream",
     "text": [
      "몆번째 항까지 구할까요? 10\n",
      "0, 1, 1, 2, 3, 5, 8, 13, 21, 34, 55, "
     ]
    }
   ],
   "source": [
    "#include <stdio.h>\n",
    "\n",
    "// 사용자가 입력한 수까지의 피보나치 수열을 구하는 프로그램\n",
    "int main(void){\n",
    "    int count;\n",
    "    printf(\"몆번째 항까지 구할까요? \");\n",
    "    scanf(\"%d\", &count);\n",
    "\n",
    "    int a = 0, b = 1, c;\n",
    "    for(int i = 0; i <= count; i++){\n",
    "        if(i == 0 || i == 1){\n",
    "            printf(\"%d, \", i);\n",
    "            continue;\n",
    "        }\n",
    "        c = a + b;\n",
    "        a = b;\n",
    "        b = c;\n",
    "        printf(\"%d, \", c);\n",
    "    }\n",
    "\n",
    "    return 0;\n",
    "}"
   ]
  },
  {
   "attachments": {},
   "cell_type": "markdown",
   "metadata": {},
   "source": [
    "**16 사용자가 입력한 특정한 정수의 자리수를 반대로 출력하는 프로그램을 작성하라.**"
   ]
  },
  {
   "cell_type": "code",
   "execution_count": 21,
   "metadata": {},
   "outputs": [
    {
     "name": "stdout",
     "output_type": "stream",
     "text": [
      "정수를 입력하시오: 1206\n",
      "6021"
     ]
    }
   ],
   "source": [
    "#include <stdio.h>\n",
    "\n",
    "// 사용자가 입력한 수의 자리수를 반대로 출력하는 프로그램\n",
    "int main(void){\n",
    "    int i;\n",
    "    printf(\"정수를 입력하시오: \");\n",
    "    scanf(\"%d\", &i);\n",
    "\n",
    "    do{\n",
    "        printf(\"%d\", i % 10);\n",
    "        i /= 10;\n",
    "    }\n",
    "    while(i != 0);\n",
    "    return 0;\n",
    "}"
   ]
  },
  {
   "attachments": {},
   "cell_type": "markdown",
   "metadata": {},
   "source": [
    "**18 사용자로부터 n을 입력받아서 조화 수열의 합을 표시하는 프로그램을 C로 작성해보자.**"
   ]
  },
  {
   "cell_type": "code",
   "execution_count": 27,
   "metadata": {},
   "outputs": [
    {
     "name": "stdout",
     "output_type": "stream",
     "text": [
      "항의 개수: 10000000\n",
      "수열의 합=16.695311"
     ]
    }
   ],
   "source": [
    "#include <stdio.h>\n",
    "\n",
    "// 사용자가 입력한 수까지의 조화 수열의 합을 표시하는 프로그램\n",
    "int main(void){\n",
    "    int n;\n",
    "    double result = 1;\n",
    "    printf(\"항의 개수: \");\n",
    "    scanf(\"%d\", &n);\n",
    "\n",
    "    for(int i = 0; i < n; i++){\n",
    "        // 명시적 케스팅\n",
    "        result += (double)1/(2+i);\n",
    "    }\n",
    "\n",
    "    printf(\"수열의 합=%lf\", result);\n",
    "    return 0;\n",
    "}"
   ]
  },
  {
   "attachments": {},
   "cell_type": "markdown",
   "metadata": {},
   "source": [
    "**20 NIM 게임을 구현하여보자.**"
   ]
  },
  {
   "cell_type": "code",
   "execution_count": 1,
   "metadata": {},
   "outputs": [
    {
     "name": "stdout",
     "output_type": "stream",
     "text": [
      "현재 스틱의 개수: 12\n",
      "몆개의 스틱을 가져가시겠습니까? : 3\n",
      "컴퓨터는 1개의 스틱을 가져갔습니다.\n",
      "\n",
      "현재 스틱의 개수: 8\n",
      "몆개의 스틱을 가져가시겠습니까? : 3\n",
      "컴퓨터는 1개의 스틱을 가져갔습니다.\n",
      "\n",
      "현재 스틱의 개수: 4\n",
      "몆개의 스틱을 가져가시겠습니까? : 0\n",
      "컴퓨터는 0개의 스틱을 가져갔습니다.\n",
      "\n",
      "현재 스틱의 개수: 4\n",
      "몆개의 스틱을 가져가시겠습니까? : 1\n",
      "컴퓨터는 1개의 스틱을 가져갔습니다.\n",
      "\n",
      "현재 스틱의 개수: 2\n",
      "몆개의 스틱을 가져가시겠습니까? : 2\n",
      "사용자가 이겼습니다."
     ]
    }
   ],
   "source": [
    "#include <stdio.h>\n",
    "#include <stdlib.h>\n",
    "#include <time.h>\n",
    "\n",
    "// 컴퓨터와 전략을 고려하지 않은 NIM 게임\n",
    "\n",
    "// 스틱의 개수를 단일 함수로만 업데이트한다.\n",
    "void sticks_update(int* sticks, int change){\n",
    "    // 입력 값 검증\n",
    "    if(change < 0) change = 0;\n",
    "    else if(change > 3) change = 3;\n",
    "\n",
    "    *sticks -= change;\n",
    "    // 가져간 스틱이 현재 스틱보다 많아 음수일 경우.\n",
    "    if(*sticks < 0) *sticks = 0;\n",
    "    return;\n",
    "}\n",
    "\n",
    "int main(void){\n",
    "    int sticks = 12;\n",
    "    srand(time(NULL));\n",
    "    while(1){   \n",
    "        int user, random = rand() % 4,\n",
    "        computer = random < sticks ? random : sticks;\n",
    "        printf(\"현재 스틱의 개수: %d\\n\", sticks);\n",
    "        printf(\"몆개의 스틱을 가져가시겠습니까? : \");\n",
    "        scanf(\"%d\", &user);\n",
    "        sticks_update(&sticks, user);\n",
    "\n",
    "        if(sticks == 0){\n",
    "            printf(\"사용자가 이겼습니다.\");\n",
    "            return 0;\n",
    "        }\n",
    "\n",
    "        printf(\"컴퓨터는 %d개의 스틱을 가져갔습니다.\\n\\n\", computer);\n",
    "        sticks_update(&sticks, computer);\n",
    "        if(sticks == 0){\n",
    "            printf(\"컴퓨터가 이겼습니다.\");\n",
    "            return 0;\n",
    "        }\n",
    "    }\n",
    "}"
   ]
  }
 ],
 "metadata": {
  "kernelspec": {
   "display_name": "C",
   "language": "c",
   "name": "c"
  },
  "language_info": {
   "file_extension": ".c",
   "mimetype": "text/x-csrc",
   "name": "c"
  },
  "orig_nbformat": 4
 },
 "nbformat": 4,
 "nbformat_minor": 2
}
